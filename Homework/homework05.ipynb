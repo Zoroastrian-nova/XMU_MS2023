{
 "cells": [
  {
   "attachments": {},
   "cell_type": "markdown",
   "metadata": {},
   "source": [
    "#### Confidence Interval & Hypothesis Testing"
   ]
  },
  {
   "attachments": {},
   "cell_type": "markdown",
   "metadata": {},
   "source": [
    "##### 2-sided case: $\\mu\\neq \\mu_0$"
   ]
  },
  {
   "attachments": {},
   "cell_type": "markdown",
   "metadata": {},
   "source": [
    "1. Construct confidence interval:$$P(L(X^n)\\leq \\mu_0 \\leq U(X^n)) = 1-\\alpha$$,where $L(X^n)$ and $U(X^n)$ stand for statistics of the random sample.\n",
    "\n",
    "    Given the estimator of $mu$ is $\\bar{X}$ and its property $\\frac{\\bar{X}-\\mu_0}{\\sigma/\\sqrt{n}}\\sim N(0,1)$(by CLT), the confidence interval can be represented as $$ [\\bar{X} - z_{\\alpha/2}\\frac{\\sigma}{\\sqrt{n}},\\bar{X} + z_{\\alpha/2}\\frac{\\sigma}{\\sqrt{n}}] $$, which means $$ P(\\mu_0 \\in [\\bar{X} - z_{\\alpha/2}\\frac{\\sigma}{\\sqrt{n}},\\bar{X} + z_{\\alpha/2}\\frac{\\sigma}{\\sqrt{n}}]) = 1-\\alpha $$\n",
    "\n",
    "    \n",
    "2. Do the hypothesis testing:\n",
    "\n",
    "    Null hypothesis and alternative hypothesis: $$ H_0:\\mu=\\mu_0 \\leftrightarrow H_1:\\mu\\neq \\mu_0 $$\n",
    "\n",
    "    Test statistic: $$ \\frac{\\bar{X}-\\mu_0}{\\sigma/\\sqrt{n}}\\sim^{H_0} N(0,1) $$\n",
    "\n",
    "    Critical region: \n"
   ]
  },
  {
   "attachments": {},
   "cell_type": "markdown",
   "metadata": {},
   "source": [
    "\n",
    "\\begin{aligned}\n",
    "        P(|\\frac{\\bar{X}-\\mu_0}{\\sigma/\\sqrt{n}}|> z_{\\alpha/2}|H_0) = \\alpha \\\\\n",
    "        P(|\\bar{X}-\\mu_0|>z_{\\alpha/2}\\frac{\\sigma}{\\sqrt{n}}|H_0) = \\alpha \\\\\n",
    "        P(\\mu_0<\\bar{X}-z_{\\alpha/2}\\frac{\\sigma}{\\sqrt{n}}\\text{ or }\\mu_0>\\bar{X}+z_{\\alpha/2}\\frac{\\sigma}{\\sqrt{n}}|H_0) = \\alpha   \\\\    \n",
    "\\end{aligned} \n",
    "\n",
    "Critical region $\\Bbb{c} = (-\\infty,\\bar{X}-z_{\\alpha/2}\\sigma/\\sqrt{n}]\\cup[\\bar{X}+z_{\\alpha/2}\\sigma/\\sqrt{n},+\\infty)$\n",
    "\n",
    "   "
   ]
  },
  {
   "cell_type": "markdown",
   "metadata": {},
   "source": [
    " \n",
    "Thus, in this case, confidence interval and hypothesis tesing have the same result,which is $$ P(\\bar{X}-z_{\\alpha/2}\\frac{\\sigma}{\\sqrt{n}}\\leq\\mu_0\\leq\\bar{X}+z_{\\alpha/2}\\frac{\\sigma}{\\sqrt{n}}|H_0) = 1-\\alpha $$ "
   ]
  },
  {
   "attachments": {},
   "cell_type": "markdown",
   "metadata": {},
   "source": [
    "##### 1-sided case: $\\mu > \\mu_0$"
   ]
  },
  {
   "attachments": {},
   "cell_type": "markdown",
   "metadata": {},
   "source": [
    "1. Construct confidence interval:$$P(L(X^n) \\leq\\mu_0 \\leq +\\infty) = 1-\\alpha$$,where  $L(X^n)$ stands for statistics of the random sample.\n",
    "\n",
    "    Given the estimator of $mu$ is $\\bar{X}$ and its property $\\frac{\\bar{X}-\\mu_0}{\\sigma/\\sqrt{n}}\\sim N(0,1)$(by CLT), the confidence interval can be represented as $$ [\\bar{X} + z_{\\alpha}\\frac{\\sigma}{\\sqrt{n}},+\\infty) $$ , which means $$ P(\\mu_0 \\in [\\bar{X} + z_{\\alpha}\\frac{\\sigma}{\\sqrt{n}},+\\infty)) = 1-\\alpha $$\n",
    "\n",
    "\n",
    "\n",
    "    \n"
   ]
  },
  {
   "attachments": {},
   "cell_type": "markdown",
   "metadata": {},
   "source": [
    "2. Do the hypothesis testing:\n",
    "\n",
    "    Null hypothesis and alternative hypothesis: $$ H_0:\\mu=\\mu_0 \\leftrightarrow H_1:\\mu> \\mu_0 $$\n",
    "\n",
    "    Test statistic: $$ \\frac{\\bar{X}-\\mu_0}{\\sigma/\\sqrt{n}}\\sim^{H_0} N(0,1) $$\n",
    "\n",
    "    Critical region: \n"
   ]
  },
  {
   "cell_type": "markdown",
   "metadata": {},
   "source": [
    "\n",
    "\\begin{aligned}\n",
    "        P(\\frac{\\bar{X}-\\mu_0}{\\sigma/\\sqrt{n}}> z_{\\alpha}|H_0) = \\alpha \\\\\n",
    "        P(\\bar{X}-\\mu_0>z_{\\alpha}\\frac{\\sigma}{\\sqrt{n}}|H_0) = \\alpha \\\\\n",
    "        P(\\mu_0<\\bar{X}-z_{\\alpha}\\frac{\\sigma}{\\sqrt{n}}|H_0) = \\alpha   \\\\    \n",
    "\\end{aligned} \n",
    "\n",
    "Critical region $\\Bbb{c} = (-\\infty,\\bar{X}-z_{\\alpha}\\sigma/\\sqrt{n}]$\n",
    "\n",
    "    \n"
   ]
  },
  {
   "attachments": {},
   "cell_type": "markdown",
   "metadata": {},
   "source": [
    "Thus, in this case, confidence interval and hypothesis tesing have the same result,which is $$ P(\\bar{X}+z_{\\alpha}\\frac{\\sigma}{\\sqrt{n}}\\leq\\mu_0<\\infty|H_0) = 1-\\alpha $$ "
   ]
  },
  {
   "attachments": {},
   "cell_type": "markdown",
   "metadata": {},
   "source": [
    "##### 1-sided case: $\\mu < \\mu_0$"
   ]
  },
  {
   "attachments": {},
   "cell_type": "markdown",
   "metadata": {},
   "source": [
    "1. Construct confidence interval:$$P(-\\infty \\leq\\mu_0 \\leq U(X^n)) = 1-\\alpha$$,where  $U(X^n)$ stands for statistics of the random sample.\n",
    "\n",
    "    Given the estimator of $mu$ is $\\bar{X}$ and its property $\\frac{\\bar{X}-\\mu_0}{\\sigma/\\sqrt{n}}\\sim N(0,1)$(by CLT), the confidence interval can be represented as $$ [-\\infty,\\bar{X} + z_{\\alpha}\\frac{\\sigma}{\\sqrt{n}}] $$ , which means $$ P(\\mu_0 \\in [-\\infty,\\bar{X} + z_{\\alpha}\\frac{\\sigma}{\\sqrt{n}}]) = 1-\\alpha $$\n",
    "\n",
    "\n"
   ]
  },
  {
   "attachments": {},
   "cell_type": "markdown",
   "metadata": {},
   "source": [
    "\n",
    "    \n",
    "2. Do the hypothesis testing:\n",
    "\n",
    "    Null hypothesis and alternative hypothesis: $$ H_0:\\mu=\\mu_0 \\leftrightarrow H_1:\\mu<\\mu_0 $$\n",
    "\n",
    "    Test statistic: $$ \\frac{\\bar{X}-\\mu_0}{\\sigma/\\sqrt{n}}\\sim^{H_0} N(0,1) $$\n",
    "\n",
    "    Critical region: \n"
   ]
  },
  {
   "cell_type": "markdown",
   "metadata": {},
   "source": [
    "\n",
    "\\begin{aligned}\n",
    "        P(\\frac{\\bar{X}-\\mu_0}{\\sigma/\\sqrt{n}}< z_{\\alpha}|H_0) = \\alpha \\\\\n",
    "        P(\\bar{X}-\\mu_0<z_{\\alpha}\\frac{\\sigma}{\\sqrt{n}}|H_0) = \\alpha \\\\\n",
    "        P(\\mu_0>\\bar{X}-z_{\\alpha}\\frac{\\sigma}{\\sqrt{n}}|H_0) = \\alpha   \\\\    \n",
    "\\end{aligned} \n",
    "\n",
    "Critical region $\\Bbb{c} = [\\bar{X}+z_{\\alpha}\\sigma/\\sqrt{n},\\infty)$\n",
    "\n",
    "    \n"
   ]
  },
  {
   "cell_type": "markdown",
   "metadata": {},
   "source": [
    "Thus, in this case, confidence interval and hypothesis tesing have the same result,which is $$ P(-\\infty<\\mu_0\\leq\\bar{X}+z_{\\alpha}\\frac{\\sigma}{\\sqrt{n}}|H_0) = 1-\\alpha $$ "
   ]
  }
 ],
 "metadata": {
  "kernelspec": {
   "display_name": "Python 3",
   "language": "python",
   "name": "python3"
  },
  "language_info": {
   "name": "python",
   "version": "3.11.0"
  },
  "orig_nbformat": 4
 },
 "nbformat": 4,
 "nbformat_minor": 2
}
