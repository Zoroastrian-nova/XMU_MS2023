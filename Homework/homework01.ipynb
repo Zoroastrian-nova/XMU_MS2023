{
 "cells": [
  {
   "attachments": {},
   "cell_type": "markdown",
   "metadata": {},
   "source": [
    "##### 5.2.3"
   ]
  },
  {
   "attachments": {},
   "cell_type": "markdown",
   "metadata": {},
   "source": [
    "+ Use the sample $Y_1 = 8.2, Y_2 = 9.1, Y_3 = 10.6, Y_4 = 4.9$ to calculate the maximum likelihood estimate \n",
    "+ for λ in the exponential pdf $$f_{Y}(y) = \\lambda e^{-\\lambda y}$$"
   ]
  },
  {
   "attachments": {},
   "cell_type": "markdown",
   "metadata": {},
   "source": [
    "+ **Solution:**\n",
    "1. Given $Y \\sim EXP(\\lambda)$, $$ f_Y(y;\\lambda) = \\lambda e^{-\\lambda y} $$\n",
    "2. $$ L(\\lambda;y) = \\prod \\lambda e^{-\\lambda y_i} $$\n",
    "3. $$ l(\\lambda;y) = log[L(\\lambda;y)] = \\sum (log(\\lambda)-\\lambda y_i) $$\n",
    "4. Let $\\frac{dl(\\lambda;y)}{d\\lambda} = 0$\n",
    "    \n"
   ]
  },
  {
   "attachments": {},
   "cell_type": "markdown",
   "metadata": {},
   "source": [
    "\\begin{align*}\n",
    "    \\frac{dl(\\lambda;y)}{d\\lambda} = \\sum \\frac{1}{\\lambda} -y_i  &=0 \\\\\n",
    "    \\frac{n}{\\lambda} &= \\sum y_i   \\\\\n",
    "    \\lambda &= \\frac{n}{\\sum y_i}\n",
    "\\end{align*}"
   ]
  },
  {
   "attachments": {},
   "cell_type": "markdown",
   "metadata": {},
   "source": [
    "5. Thus, the MLE of $\\lambda$ is $\\hat{\\lambda} = \\frac{n}{\\sum Y_i}$\n",
    "6. $\\lambda_e = \\frac{n}{\\sum y_i} = 0.12195121951219513 $"
   ]
  },
  {
   "cell_type": "code",
   "execution_count": 1,
   "metadata": {},
   "outputs": [
    {
     "name": "stdout",
     "output_type": "stream",
     "text": [
      "0.12195121951219513\n"
     ]
    }
   ],
   "source": [
    "import numpy as np\n",
    "print(4/(sum(np.array([8.2,9.1,10.6,4.9]))))"
   ]
  },
  {
   "attachments": {},
   "cell_type": "markdown",
   "metadata": {},
   "source": [
    "##### 5.2.4"
   ]
  },
  {
   "attachments": {},
   "cell_type": "markdown",
   "metadata": {},
   "source": [
    "+ Suppose a random sample of size n is drawn from the probability model\n",
    "$$p_X(k;θ) =\\frac{θ^{2k}e^{−θ^2}}{k!}$$\n",
    "\n",
    "+ Find a formula for the maximum likelihood estimator, $\\hat{θ}$"
   ]
  },
  {
   "attachments": {},
   "cell_type": "markdown",
   "metadata": {},
   "source": [
    "+ **Solution:**\n",
    "1. $$p_X(k;θ) =\\frac{θ^{2k}e^{−θ^2}}{k!}$$\n",
    "2. $$ L(\\theta;k) = \\prod \\frac{θ^{2k}e^{−θ^2}}{k!}  $$\n",
    "3. $$ l(\\theta;k) = \\sum 2k\\times \\ln(\\theta) -\\theta^2 - \\ln(k!) $$\n",
    "4. Let $\\frac{dl(\\theta;k)}{d\\theta } = 0$"
   ]
  },
  {
   "attachments": {},
   "cell_type": "markdown",
   "metadata": {},
   "source": [
    "\\begin{align*}\n",
    "    \\frac{dl(\\theta;k)}{d\\theta} = \\sum \\frac{2k_i}{\\theta} - 2\\theta &= 0    \\\\\n",
    "    n\\theta^2 &= \\sum k_i  \\\\\n",
    "    \\theta &= \\plusmn\\sqrt{\\frac{{\\sum k_i}}{n}}\n",
    "\\end{align*}"
   ]
  },
  {
   "attachments": {},
   "cell_type": "markdown",
   "metadata": {},
   "source": [
    "5. Thus, the MLE of $\\theta$ is $\\hat{\\theta} = \\plusmn\\sqrt{\\frac{{\\sum K_i}}{n}} $"
   ]
  },
  {
   "attachments": {},
   "cell_type": "markdown",
   "metadata": {},
   "source": [
    "##### 5.2.6"
   ]
  },
  {
   "attachments": {},
   "cell_type": "markdown",
   "metadata": {},
   "source": [
    "$$ f_Y(y;\\theta) = \\frac{\\theta}{2\\sqrt{y}}e^{-\\theta \\sqrt{y}} $$\n",
    "+ Evaluate $θ_e$ for the following random sample of size 4:$Y_1 = 6.2, Y_2 = 7.0, Y_3 = 2.5, Y_4 = 4.2$"
   ]
  },
  {
   "attachments": {},
   "cell_type": "markdown",
   "metadata": {},
   "source": [
    "+ **Solution:**\n",
    "1. $$ f_Y(y;\\theta) = \\frac{\\theta}{2\\sqrt{y}}e^{-\\theta \\sqrt{y}} $$\n",
    "2. $$ L(\\theta;y) = \\prod \\frac{\\theta}{2\\sqrt{y_i}}e^{-\\theta \\sqrt{y_i}} $$\n",
    "3. $$ l(\\theta;y) = \\sum \\ln({\\theta}) -\\ln(2) - \\frac{1}{2}\\ln{y_i} - \\theta\\sqrt{y_i} $$\n",
    "4. Let $\\frac{dl(\\theta;y)}{d\\theta} =0$"
   ]
  },
  {
   "attachments": {},
   "cell_type": "markdown",
   "metadata": {},
   "source": [
    "\\begin{align*}\n",
    "    \\frac{dl(\\theta;y)}{d\\theta} = \\sum \\frac{1}{\\theta} - \\sqrt{y_i}   &=0    \\\\\n",
    "    \\frac{n}{\\theta} &= \\sum \\sqrt{y_i}\\\\\n",
    "    \\theta &= \\frac{n}{\\sum \\sqrt{y_i}} \n",
    "\\end{align*}"
   ]
  },
  {
   "attachments": {},
   "cell_type": "markdown",
   "metadata": {},
   "source": [
    "5. Thus, the MLE of $\\theta$ is $\\hat{\\theta} = \\frac{n}{\\sum \\sqrt{Y_i}}$\n",
    "\n",
    "    $\\theta_e = 0.4562949196556997 $"
   ]
  },
  {
   "cell_type": "code",
   "execution_count": 2,
   "metadata": {},
   "outputs": [
    {
     "name": "stdout",
     "output_type": "stream",
     "text": [
      "0.4562949196556997\n"
     ]
    }
   ],
   "source": [
    "import numpy as np\n",
    "print( 4/(sum(np.sqrt(np.array([6.2,  7.0, 2.5,  4.2])))))"
   ]
  },
  {
   "attachments": {},
   "cell_type": "markdown",
   "metadata": {},
   "source": [
    "##### 5.2.10\n"
   ]
  },
  {
   "attachments": {},
   "cell_type": "markdown",
   "metadata": {},
   "source": [
    "1. Based on the random sample $Y_1 = 6.3, Y_2 =1.8, Y_3 = 14.2, Y_4 = 7.6$, use the method of maximum likelihood to estimate the parameter θ in the uniform pdf $$ f_{Y}(y;\\theta) = \\frac{1}{\\theta} $$, $0\\leq y \\leq \\theta$\n"
   ]
  },
  {
   "attachments": {},
   "cell_type": "markdown",
   "metadata": {},
   "source": [
    "+ **Solution:**\n",
    "1. Given $Y\\sim U(0,\\theta)$,$$ f_Y(y;\\theta) = \\frac{1}{\\theta} $$\n",
    "2. $$ L(\\theta;y) = \\prod_{i=1}^n \\frac{1}{\\theta} $$\n",
    "3. Since $L(\\theta;y)$ is decreasing for all $\\theta\\geq y$\n",
    "4. The MLE of $\\theta$ is $\\hat{\\theta} = \\max\\{Y_1,Y_2,...,Y_n\\} = Y_{(n)}$\n",
    "\n",
    "    $\\theta_e = y_{(n)} = 14.2 $"
   ]
  },
  {
   "cell_type": "markdown",
   "metadata": {},
   "source": [
    "\n",
    "2. Suppose the random sample in part (a) represents the two-parameter uniform pdf   $$ f_{Y}(y;\\theta_1,\\theta_2) = \\frac{1}{\\theta_2-\\theta_1} $$,$\\theta_1 \\leq y \\leq \\theta_2$"
   ]
  },
  {
   "attachments": {},
   "cell_type": "markdown",
   "metadata": {},
   "source": [
    "+ **Solution:**\n",
    "\n",
    "1. Given $Y\\sim U(\\theta_1,\\theta_2)$,$$ f_Y(y;\\theta_1,\\theta_2) = \\frac{1}{\\theta_2-\\theta_1} $$\n",
    "2. $$  L(\\theta_1,\\theta_2;y) = \\prod \\frac{1}{\\theta_2-\\theta_1}  $$\n",
    "3. $$ l(\\theta_1,\\theta_2;y) = \\sum -\\ln(\\theta_2-\\theta_1) $$\n",
    "4. Let $\\frac{\\partial l(\\theta_1,\\theta_2;y)}{\\partial \\theta_1}=0$,$\\frac{\\partial l(\\theta_1,\\theta_2;y)}{\\partial \\theta_2}=0$\n",
    "\n"
   ]
  },
  {
   "attachments": {},
   "cell_type": "markdown",
   "metadata": {},
   "source": [
    "\\begin{cases}\n",
    "    \\frac{\\partial l(\\theta_1,\\theta_2;y)}{\\partial \\theta_1} =  \\frac{n}{\\theta_1} > 0  \\\\\n",
    "    \\frac{\\partial l(\\theta_1,\\theta_2;y)}{\\partial \\theta_2} =  \\frac{-n}{\\theta_2} < 0  \\\\\n",
    "\\end{cases}"
   ]
  },
  {
   "attachments": {},
   "cell_type": "markdown",
   "metadata": {},
   "source": [
    "5. Thus, the MLE of $\\theta_1,\\theta_2$ are $\\hat{\\theta_1} = Y_{(1)}  $,$\\hat{\\theta_2} = Y_{(n)}$\n",
    "\n",
    "    $\\theta_1^e = y_{(1)} = 1.8$,$\\theta_1^e = y_{(n)} = 14.2$"
   ]
  },
  {
   "cell_type": "markdown",
   "metadata": {},
   "source": [
    "\n",
    "##### 5.2.11\n"
   ]
  },
  {
   "attachments": {},
   "cell_type": "markdown",
   "metadata": {},
   "source": [
    "+ Find the maximum likelihood estimate for θ in the pdf $$ f_Y(y) = \\frac{2y}{1-\\theta^2} $$,$\\theta\\leq y \\leq 1$\n",
    "+ with the random sample $0.70, 0.63, 0.92, 0.86, 0.43, 0.21$"
   ]
  },
  {
   "attachments": {},
   "cell_type": "markdown",
   "metadata": {},
   "source": [
    "+ **Solution:**\n",
    "1. $$ f_Y(y;\\theta) =   \\frac{2y}{1-\\theta^2} $$\n",
    "2. $$ L(\\theta;y) = \\prod \\frac{2y_i}{1-\\theta^2}  $$\n",
    "3. $$ l(\\theta;y) = \\sum \\ln(2y_i) - \\ln(1-\\theta^2) $$\n",
    "4. Let $\\frac{dl(\\theta;y)}{d\\theta} =0$"
   ]
  },
  {
   "attachments": {},
   "cell_type": "markdown",
   "metadata": {},
   "source": [
    "\\begin{align*}\n",
    "    \\frac{dl(\\theta;y)}{d\\theta} = \\sum \\frac{1}{1-\\theta^2}  = \\frac{n}{1-\\theta^2} >0    \\\\\n",
    "\\end{align*}"
   ]
  },
  {
   "attachments": {},
   "cell_type": "markdown",
   "metadata": {},
   "source": [
    "5. Thus, the MLE of $\\theta$ is $\\hat{\\theta} = \\min\\{Y_1,...,Y_n \\} = Y_{(1)}  $\n",
    "\n",
    "    $\\theta_e = y_{(1)} = 0.21 $"
   ]
  },
  {
   "cell_type": "markdown",
   "metadata": {},
   "source": [
    "\n",
    "##### 5.2.12\n"
   ]
  },
  {
   "attachments": {},
   "cell_type": "markdown",
   "metadata": {},
   "source": [
    "+ A random sample of size n is taken from the pdf $$ f_{Y}(y;\\theta) = \\frac{2y}{\\theta^2}  $$,$0\\leq y \\leq \\theta$\n",
    "+ Find an expression for $\\hat{θ}$, the maximum likelihood estimator for $θ$"
   ]
  },
  {
   "attachments": {},
   "cell_type": "markdown",
   "metadata": {},
   "source": [
    "+ **Solution:**\n",
    "1. $$ f_Y(y;\\theta) = \\frac{2y}{\\theta^2} $$\n",
    "2. $$ L(\\theta;y) = \\prod \\frac{2y_i}{\\theta^2} $$\n",
    "3. $$ l(\\theta;y) = \\sum\\ln(2y_i) - \\ln(\\theta^2) $$\n",
    "4. Let $\\frac{dl(\\theta;y)}{d\\theta} =0$"
   ]
  },
  {
   "attachments": {},
   "cell_type": "markdown",
   "metadata": {},
   "source": [
    "\\begin{align*}\n",
    "    \\frac{dl(\\theta;y)}{d\\theta} = \\frac{n*2\\theta}{\\theta^2} = \\frac{2n}{\\theta}  >0    \\\\\n",
    "\\end{align*}"
   ]
  },
  {
   "attachments": {},
   "cell_type": "markdown",
   "metadata": {},
   "source": [
    "5. Thus, the MLE of $\\theta$ is $ \\hat{\\theta} = \\max\\{ Y_1,...,Y_n \\} = Y_{(n)} $\n"
   ]
  },
  {
   "cell_type": "markdown",
   "metadata": {},
   "source": [
    "\n",
    "##### 5.2.13"
   ]
  },
  {
   "attachments": {},
   "cell_type": "markdown",
   "metadata": {},
   "source": [
    "+ If the random variable Y denotes an individual’s income, Pareto’s law claims that $P(Y ≥ y)=(\\frac{k}{y})^θ$, where k is the entire population’s minimum income. \n",
    "+ It follows that $F_Y (y) = 1 −  \\frac ky^θ$, and, by differentiation,$$ f_Y(y;\\theta) = \\theta k^{\\theta} {(\\frac{1}{y})}^{\\theta+1}  $$\n",
    "  ,$y\\geq k$,$\\theta>1$\n",
    "+ Assume k is known. \n",
    "+ Find the maximum likelihood estimator for θ if income information has been collected on a random sample of 25 individuals"
   ]
  },
  {
   "attachments": {},
   "cell_type": "markdown",
   "metadata": {},
   "source": [
    "+ **Solution:**\n",
    "1. $$ f_Y(y;\\theta) = f_Y(y;\\theta) = \\theta k^{\\theta} {(\\frac{1}{y})}^{\\theta+1} $$\n",
    "2. $$ L(\\theta;y) = \\prod \\theta k^{\\theta} (\\frac{1}{y_i})^{\\theta+1} $$\n",
    "3. $$ l(\\theta;y) = \\sum \\ln(\\theta) + \\theta\\ln(k) - (\\theta+1)\\ln(y_i) $$\n",
    "4. Let $\\frac{dl(\\theta;y)}{d\\theta} =0$\n",
    "\n",
    "\\begin{align*}\n",
    "    \\frac{dl(\\theta;y)}{d\\theta} = \\sum \\frac1\\theta + \\ln(k) - \\ln(y_i)  &=0    \\\\\n",
    "    \\frac{n}{\\theta}  &= \\sum \\ln(y_i) - n\\ln(k)\\\\\n",
    "    \\theta &= \\frac{1}{n^{-1}\\sum \\ln(y_i) - \\ln(k)}    \\\\\n",
    "\\end{align*}"
   ]
  },
  {
   "attachments": {},
   "cell_type": "markdown",
   "metadata": {},
   "source": [
    "5. Thus, the MLE of $\\theta$ is $\\hat{\\theta} = \\frac{1}{n^{-1}\\sum \\ln(Y_i) - \\ln(k)}  $\n",
    "\n",
    "    $\\theta_e =  \\frac{1}{25^{-1}\\sum \\ln(y_i) - \\ln(k)}$"
   ]
  },
  {
   "attachments": {},
   "cell_type": "markdown",
   "metadata": {},
   "source": [
    "##### 5.2.17\n"
   ]
  },
  {
   "attachments": {},
   "cell_type": "markdown",
   "metadata": {},
   "source": [
    "+ Use the method of moments to estimate θ in the pdf\n",
    "$$f_Y(y;θ) = (θ^2 + θ)y^{θ−1}(1 − y)$$ \n",
    ",$0 ≤ y ≤ 1$\n",
    "+ Assume that a random sample of size n has been collected"
   ]
  },
  {
   "attachments": {},
   "cell_type": "markdown",
   "metadata": {},
   "source": [
    "1. Compute $E(Y)$:\n",
    "\n",
    "\\begin{align*}\n",
    "    E(Y) &= \\int_{0}^{1} (\\theta^2+\\theta)(1-y)y^{\\theta}dy \\\\\n",
    "    &= \\int_{0}^{1} (\\theta^2+\\theta)y^{\\theta}dy - \\int_{0}^{1} (\\theta^2+\\theta)y^{\\theta+1}dy    \\\\\n",
    "    &= (\\theta^2+\\theta)\\frac{y^{\\theta+1}}{\\theta+1}|^{1}_{0} - (\\theta^2+\\theta)\\frac{y^{\\theta+2}}{\\theta+2}|^{1}_{0}    \\\\\n",
    "    &= \\theta(\\theta+1)\\frac{1}{\\theta+1} - \\frac{\\theta(\\theta+1)}{\\theta+2}   \\\\\n",
    "    &= \\frac{\\theta^2 +2 \\theta - \\theta^2 -\\theta}{\\theta+2}   \\\\\n",
    "    &= \\frac{\\theta}{\\theta+2}\n",
    "\\end{align*}\n",
    "    \n"
   ]
  },
  {
   "attachments": {},
   "cell_type": "markdown",
   "metadata": {},
   "source": [
    "2. Solve the euqation $\\Bbb{E}(Y) = E(Y) $\n",
    "\n",
    "\\begin{align*}\n",
    "    \\Bbb{E}(Y) &= E(Y)  \\\\\n",
    "    \\frac1n\\sum_{i=1}^{n} Y_i &= \\frac{\\theta}{\\theta+2}   \\\\\n",
    "    \\frac{\\theta+2}{\\theta} = \\frac{2}{\\theta}+1 &= \\frac{1}{\\frac1n\\sum_{i=1}^{n} Y_i} \\\\\n",
    "    \\theta &= \\frac{2}{\\frac{1}{\\frac1n\\sum_{i=1}^{n} Y_i}-1} = \\frac{2}{(\\frac1n\\sum_{i=1}^{n} Y_i)^{-1}-1}  \\\\\n",
    "\\end{align*}\n",
    "\n",
    "+ Thus, the MME of $\\theta$ is $\\hat{\\theta} = \\frac{2}{(\\frac1n\\sum_{i=1}^{n} Y_i)^{-1}-1} $"
   ]
  },
  {
   "cell_type": "markdown",
   "metadata": {},
   "source": [
    "\n",
    "##### 5.2.20\n"
   ]
  },
  {
   "attachments": {},
   "cell_type": "markdown",
   "metadata": {},
   "source": [
    "+ Suppose that $Y_1 = 8.3,Y_2 = 4.9,Y_3 = 2.6,Y_4 = 6.5$ is a random sample of size 4 from the two-parameter uniform pdf,\n",
    "$$f_Y(y;θ_1,θ_2) = \\frac{1}{2\\theta_2}  $$ \n",
    ",$\\theta_1-\\theta_2\\leq y \\leq \\theta_1+\\theta_2$\n",
    "+ Use the method of moments to calculate $θ_{1e}$ and $θ_{2e}$."
   ]
  },
  {
   "attachments": {},
   "cell_type": "markdown",
   "metadata": {},
   "source": [
    "1. Compute $E(X)$:\n",
    "\n",
    "\\begin{align*}\n",
    "    E(X) &= \\int_{\\theta_1-\\theta_2}^{\\theta_1+\\theta_2} \\frac{y}{2\\theta_2}dy  \\\\\n",
    "    &= \\frac{y^2}{4\\theta_2}|^{\\theta_1+\\theta_2}_{\\theta_1-\\theta_2}   \\\\\n",
    "    &= \\frac{4\\theta_1\\theta2}{4\\theta_2}   \\\\\n",
    "    &= \\theta_1\n",
    "\\end{align*}"
   ]
  },
  {
   "attachments": {},
   "cell_type": "markdown",
   "metadata": {},
   "source": [
    "2. Compute $E(X^2)$:\n",
    "\n",
    "\\begin{align*}\n",
    "    E(X^2) &= \\int_{\\theta_1-\\theta_2}^{\\theta_1+\\theta_2} \\frac{y^2}{2\\theta_2}dy  \\\\\n",
    "    &= \\frac{y^3}{6\\theta_2}|^{\\theta_1+\\theta_2}_{\\theta_1-\\theta_2}   \\\\\n",
    "    &= \\frac{6 \\theta_1^{2} \\theta_2 + 2 \\theta_2^{3}}{6\\theta_2} \\\\\n",
    "    &= \\theta_1^2 + \\frac{\\theta_2^{2}}{3}    \\\\\n",
    "\\end{align*}"
   ]
  },
  {
   "attachments": {},
   "cell_type": "markdown",
   "metadata": {},
   "source": [
    "3. Solve the equations\n",
    "\n",
    "\\begin{cases}\n",
    "    E(X) = \\Bbb{E}(X)\\\\\n",
    "    E(X^2) = S^2 + \\Bbb{E}(X)^2 \n",
    "\\end{cases}\n"
   ]
  },
  {
   "attachments": {},
   "cell_type": "markdown",
   "metadata": {},
   "source": [
    "\\begin{align*}\n",
    "    E(X) &= \\Bbb{E}(X)\\\\\n",
    "    \\theta_1 &= \\frac1n\\sum Y_i \n",
    "\\end{align*}"
   ]
  },
  {
   "attachments": {},
   "cell_type": "markdown",
   "metadata": {},
   "source": [
    "\\begin{align*}\n",
    "    E(Y^2) &= S^2 + \\Bbb{E}(Y)^2    \\\\\n",
    "    \\theta_1^2 + \\frac{\\theta_2^{2}}{3} &= S^2 + \\bar{Y}^2    \\\\\n",
    "    \\frac{\\theta_2^{2}}{3} &= S^2 \\\\\n",
    "    \\frac{\\theta_2^{2}}{3} &= \\frac{1}{n-1}\\sum(Y_i-\\bar{Y})^2    \\\\\n",
    "    \\theta_2^{2} &= \\frac{3}{n-1}\\sum(Y_i-\\bar{Y})^2     \\\\\n",
    "    \\theta_2 &= \\sqrt{\\frac{3}{n-1}\\sum(Y_i-\\bar{Y})^2}\n",
    "\n",
    "\\end{align*}"
   ]
  },
  {
   "attachments": {},
   "cell_type": "markdown",
   "metadata": {},
   "source": [
    "4. Thus, the MME of $\\theta_1,\\theta_2$ are\n",
    "\n",
    "\\begin{cases}\n",
    "    \\theta_1 = \\frac1n\\sum Y_i \\\\\n",
    "    \\theta_2 = \\sqrt{\\frac{3}{n-1}\\sum(Y_i-\\bar{Y})^2}\n",
    "\\end{cases}"
   ]
  },
  {
   "cell_type": "markdown",
   "metadata": {},
   "source": [
    "\n",
    "##### 5.2.23"
   ]
  },
  {
   "attachments": {},
   "cell_type": "markdown",
   "metadata": {},
   "source": [
    "+ Find the method of moments estimates for $μ$ and $σ^2$, based on a random sample of size n drawn from a normal pdf,\n",
    "  +  where $μ = E(Y)$ and $σ^2 = Var(Y)$.  \n",
    "+ Compare your answers with the maximum likelihood estimates derived in Example 5.2.4."
   ]
  },
  {
   "attachments": {},
   "cell_type": "markdown",
   "metadata": {},
   "source": [
    "1. By $E(Y) = \\Bbb{E}(Y)$,we have\n",
    "    \n",
    "\\begin{align*}\n",
    "    E(Y) &= \\Bbb{E}(Y)  \\\\\n",
    "    \\mu &= \\frac1n \\sum Y_i\n",
    "\\end{align*}"
   ]
  },
  {
   "attachments": {},
   "cell_type": "markdown",
   "metadata": {},
   "source": [
    "\n",
    "2. By $E(Y^2) = \\Bbb{E}(Y^2)$,we have\n",
    "\n",
    "\\begin{align*}\n",
    "    E(Y^2) &=  \\frac1n \\sum (Y_i^2)   \\\\\n",
    "    \\sigma^2 + \\mu^2 &=  \\frac1n \\sum (Y_i^2)  \\\\\n",
    "    \\sigma^2 &= \\frac1n \\sum (Y_i^2) - \\mu^2    \\\\\n",
    "    \\sigma^2 &= \\frac{1}{n} \\sum (Y_i^2) - {(\\frac{1}{n}\\sum Y_i)}^2\n",
    "\\end{align*}\n",
    "    \n"
   ]
  },
  {
   "cell_type": "markdown",
   "metadata": {},
   "source": [
    "3. Thus, $\\hat{\\mu} = \\frac1n \\sum Y_i $,$ \\hat{\\sigma^2} = \\frac{1}{n} \\sum (Y_i^2) - {(\\frac{1}{n}\\sum Y_i)}^2 $"
   ]
  },
  {
   "attachments": {},
   "cell_type": "markdown",
   "metadata": {},
   "source": [
    "4. The MLE of $\\theta$ in 5.2.4 is $\\hat{\\theta} = \\sqrt{\\frac{\\sum Y_i}{n}} = \\sqrt{\\hat{\\mu}}$"
   ]
  },
  {
   "cell_type": "code",
   "execution_count": 6,
   "metadata": {},
   "outputs": [
    {
     "name": "stdout",
     "output_type": "stream",
     "text": [
      "6 x^{2} y + 2 y^{3}\n",
      "x**3 + 3*x**2*y + 3*x*y**2 + y**3\n",
      "x**3 - 3*x**2*y + 3*x*y**2 - y**3\n"
     ]
    }
   ],
   "source": [
    "import sympy\n",
    "from sympy.abc import x,y\n",
    "print(sympy.latex(sympy.expand((x+y)**3 - (x-y)**3)))\n",
    "print(sympy.expand((x+y)**3))\n",
    "print(sympy.expand((x-y)**3))"
   ]
  }
 ],
 "metadata": {
  "kernelspec": {
   "display_name": "base",
   "language": "python",
   "name": "python3"
  },
  "language_info": {
   "codemirror_mode": {
    "name": "ipython",
    "version": 3
   },
   "file_extension": ".py",
   "mimetype": "text/x-python",
   "name": "python",
   "nbconvert_exporter": "python",
   "pygments_lexer": "ipython3",
   "version": "3.9.12"
  },
  "orig_nbformat": 4
 },
 "nbformat": 4,
 "nbformat_minor": 2
}
