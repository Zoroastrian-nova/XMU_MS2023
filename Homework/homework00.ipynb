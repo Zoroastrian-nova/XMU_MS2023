{
 "cells": [
  {
   "attachments": {},
   "cell_type": "markdown",
   "metadata": {},
   "source": [
    "##### 第一题\n",
    " Given $\\{X_1,X_2,...,X_n \\}$ be the random sample of $X$ with the mean $\\mu$ and the variance $\\sigma^2$,proof $\\frac{\\bar{X}-\\mu}{\\sigma/\\sqrt{n}}\\to^{d}N(0,1)$"
   ]
  },
  {
   "attachments": {},
   "cell_type": "markdown",
   "metadata": {},
   "source": [
    "Given $M_X(t) = e^{\\frac{1}{2}t^2}$,for $X\\sim N(0,1)$\n",
    "\n",
    "Thus $M_{Y}(t) = e^{\\frac{1}{2}t^2}$,for $X\\sim N(0,1) \\Leftrightarrow Y\\to^{d}N(0,1) $,for $Y = \\frac{\\bar{X}-\\mu}{\\sigma/\\sqrt{n}}$ whose MGF is exist for all $t$\n",
    "\n",
    "\\begin{aligned}\n",
    "    M_{Y}(t) &=  E(e^{tY}) = E(e^{t\\frac{\\bar{X}-\\mu}{\\sigma/\\sqrt{n}}})\\\\\n",
    "    &= E(e^{t\\frac{\\sum X_i - \\mu}{\\sigma/\\sqrt{n}}})   \\\\\n",
    "    &= E(e^{\\frac{t}{\\sqrt{n}}\\sum\\frac{X_i - \\mu}{\\sigma}})\\\\\n",
    "    &= E(e^{\\frac{t}{\\sqrt{n}}\\frac{X_1 - \\mu}{\\sigma}})...E(e^{\\frac{t}{\\sqrt{n}}\\frac{X_n - \\mu}{\\sigma}})\\\\\n",
    "    &= E(e^{\\frac{t}{\\sqrt{n}}\\frac{X_n - \\mu}{\\sigma}})^n  \\\\\n",
    "    &= M_{\\frac{X_n - \\mu}{\\sigma}}(\\frac{t}{\\sqrt{n}})^n   \\\\\n",
    "\\end{aligned}\n",
    "\n",
    "By the Taylor's Theorem:\n",
    "\\begin{aligned}\n",
    "    M_{\\frac{X_n - \\mu}{\\sigma}}(\\frac{t}{\\sqrt{n}}) &= 1+\\frac{t}{\\sqrt{n}}E(\\frac{X_n - \\mu}{\\sigma}) + \\frac{(\\frac{t}{\\sqrt{n}})^2}{2}E(\\frac{X_n - \\mu}{\\sigma})^2 + (\\frac{t}{\\sqrt{n}})^2*h(\\frac{t}{\\sqrt{n}})  \\\\\n",
    "    &= 1+\\frac{(\\frac{t}{\\sqrt{n}})^2}{2}+ (\\frac{t}{\\sqrt{n}})^2*h(\\frac{t}{\\sqrt{n}})  \\\\\n",
    "\\end{aligned}\n",
    "\n",
    "Thus,we have $$ M_{Y}(t) = M_{\\frac{X_n - \\mu}{\\sigma}}(\\frac{t}{\\sqrt{n}})^n = (1+\\frac{(\\frac{t}{\\sqrt{n}})^2}{2}+ (\\frac{t}{\\sqrt{n}})^2*h(\\frac{t}{\\sqrt{n}}))^n $$\n",
    "$$ \\lim_{n\\to\\infty} M_{Y}(t)  = \\lim_{n\\to\\infty}(1+\\frac{(\\frac{t}{\\sqrt{n}})^2}{2}+ (\\frac{t}{\\sqrt{n}})^2*h(\\frac{t}{\\sqrt{n}}))^n = e^{\\frac{t^2}{2}} $$\n",
    "\n",
    "Consequently,we know that $Y = \\frac{\\bar{X}-\\mu}{\\sigma/\\sqrt{n}}\\sim N(0,1)$"
   ]
  },
  {
   "attachments": {},
   "cell_type": "markdown",
   "metadata": {},
   "source": [
    "+ For a general case that MGF is not necessarily exist, refer to [A Moment Generating Function Proof of the Lindeberg–Lévy Central Limit Theorem](https://doi.org/10.1198/tast.2010.09159)"
   ]
  },
  {
   "attachments": {},
   "cell_type": "markdown",
   "metadata": {},
   "source": [
    "##### 第二题"
   ]
  },
  {
   "attachments": {},
   "cell_type": "markdown",
   "metadata": {},
   "source": [
    "In R or Python, assign a matrix\n",
    "\\begin{array}{cccc}\n",
    "1 & 0.5 & 0.3 & 0.1 \\\\\n",
    "0.5 & 1 & 0.5 & 0.3 \\\\\n",
    "0.3 & 0.5 & 1 & 0.5 \\\\\n",
    "0.1 & 0.3 & 0.5 & 1\n",
    "\\end{array}\n",
    "to a letter $A$, and compute $A^2 = A^T A$ and $A^{−1}$. Find the eigenvalues and the corresponding eigenvectors of A."
   ]
  },
  {
   "cell_type": "code",
   "execution_count": 19,
   "metadata": {},
   "outputs": [
    {
     "name": "stdout",
     "output_type": "stream",
     "text": [
      "A^2 = [[1.35 1.18 0.9  0.5 ]\n",
      " [1.18 1.59 1.3  0.9 ]\n",
      " [0.9  1.3  1.59 1.18]\n",
      " [0.5  0.9  1.18 1.35]]\n",
      "\n",
      " A^-1 = [[ 1.35233035 -0.63994204 -0.15213716  0.13281816]\n",
      " [-0.63994204  1.64211543 -0.55300652 -0.15213716]\n",
      " [-0.15213716 -0.55300652  1.64211543 -0.63994204]\n",
      " [ 0.13281816 -0.15213716 -0.63994204  1.35233035]]\n",
      "\n",
      "eigen_value = [2.12462113 0.98284271 0.47537887 0.41715729]\n",
      "\n",
      "eigen_vector = [[ 0.43516215  0.65328148  0.55734541 -0.27059805]\n",
      " [ 0.55734541  0.27059805 -0.43516215  0.65328148]\n",
      " [ 0.55734541 -0.27059805 -0.43516215 -0.65328148]\n",
      " [ 0.43516215 -0.65328148  0.55734541  0.27059805]]\n"
     ]
    }
   ],
   "source": [
    "import numpy as np\n",
    "A = np.array([[1, 0.5, 0.3, 0.1],\n",
    "[0.5, 1, 0.5, 0.3],\n",
    "[0.3, 0.5, 1, 0.5],\n",
    "[0.1, 0.3, 0.5, 1],])\n",
    "A_2 = np.dot(A.T, A)\n",
    "A_inv = np.linalg.inv(A)\n",
    "eigen_value,eigen_vector = np.linalg.eig(A)\n",
    "print(f'A^2 = {A_2}\\n\\n A^{-1} = {A_inv}\\n\\neigen_value = {eigen_value}\\n\\neigen_vector = {eigen_vector}')"
   ]
  },
  {
   "attachments": {},
   "cell_type": "markdown",
   "metadata": {},
   "source": [
    "##### 第三题\n",
    "\n"
   ]
  },
  {
   "attachments": {},
   "cell_type": "markdown",
   "metadata": {},
   "source": [
    "Simulate the three curtain games in our slides and estimate the proportion of winning\n",
    "that you change the choices. \n",
    "\n",
    "Plot the graph."
   ]
  },
  {
   "cell_type": "code",
   "execution_count": 6,
   "metadata": {},
   "outputs": [],
   "source": [
    "from scipy.stats import rv_discrete\n",
    "import numpy as np\n",
    "n = 100\n",
    "values,prob = [1,2,3],np.array([1/3,1/3,1/3])\n",
    "reduced_prob = np.array([0.5,0.5])\n",
    "correct = np.array([0,0])\n",
    "for i in range(n):\n",
    "    prize = rv_discrete(values=(values,prob)).rvs()\n",
    "    first_choice = rv_discrete(values=(values,prob)).rvs()\n",
    "    if prize == first_choice:\n",
    "        reveal = rv_discrete(values=([i for i in values if (i!=prize)],reduced_prob)).rvs()\n",
    "        change_choice = rv_discrete(values=([i for i in values if (i!=reveal)],reduced_prob)).rvs()\n",
    "    else:\n",
    "        reveal = [i for i in values if (i!=prize) & (i!=first_choice)][0]\n",
    "        change_choice = [i for i in values if (i!=reveal)& (i!=first_choice)][0]\n",
    "    correct[0] += (first_choice==prize)\n",
    "    correct[1] += (change_choice==prize)\n",
    "correct = correct/n\n",
    "real_correct = [1/3,2/3]"
   ]
  },
  {
   "cell_type": "code",
   "execution_count": 36,
   "metadata": {},
   "outputs": [],
   "source": [
    "\n"
   ]
  },
  {
   "attachments": {},
   "cell_type": "markdown",
   "metadata": {},
   "source": [
    "##### 第四题\n",
    " Generate the probability result of the game 博饼\n",
    "   + ![](https://pic3.zhimg.com/v2-807a91b3df49a52d6755799d8547cb46_r.jpg)"
   ]
  },
  {
   "cell_type": "code",
   "execution_count": 1,
   "metadata": {},
   "outputs": [],
   "source": [
    "import math\n",
    "def split(sample,num_dies):\n",
    "    runs = int(math.modf(len(sample)/num_dies)[-1])\n",
    "    sample = sample[:runs*num_dies].reshape([runs,num_dies])\n",
    "    return sample"
   ]
  },
  {
   "cell_type": "code",
   "execution_count": 2,
   "metadata": {},
   "outputs": [],
   "source": [
    "import matplotlib.pyplot as plt\n",
    "from scipy.stats import rv_discrete\n",
    "from numpy import array\n",
    "from numpy import where,sum\n",
    "def is_jinhua(set):\n",
    "    #four = where(set==4,1,0)\n",
    "    #two = where(set==2,1,0)\n",
    "    return sum(where(set==4,1,0))==4 & sum(where(set==2,1,0))==2\n",
    "\n",
    "def is_liuhong(set):\n",
    "    return sum(where(set==4,1,0))==6 \n",
    "\n",
    "def is_liuhei(set):\n",
    "    return sum(where(set==6,1,0))==6 \n",
    "\n",
    "def is_wuwang(set):\n",
    "    return sum(where(set==4,1,0))==5 \n",
    "\n",
    "def is_wuzi(set):\n",
    "    return sum(where(set==6,1,0))==5\n",
    "\n",
    "def is_zhuangyuan(set):\n",
    "    return sum(where(set==6,1,0))==4\n",
    "\n",
    "def is_duitang(set):\n",
    "    indicator = (array([sum(where(set==i,1,0))==1 for i in range(1,7)]))\n",
    "    return sum(indicator)==len(indicator)\n",
    "\n",
    "def is_sanhong(set):\n",
    "    return sum(where(set==4,1,0))==3\n",
    "\n",
    "def is_sijin(set):\n",
    "    return sum(where(set==2,1,0))==4\n",
    "\n",
    "def is_erju(set):\n",
    "    return sum(where(set==4,1,0))==2\n",
    "\n",
    "def is_yixiu(set):\n",
    "    return sum(where(set==4,1,0))==1"
   ]
  },
  {
   "cell_type": "code",
   "execution_count": 3,
   "metadata": {},
   "outputs": [],
   "source": [
    "def result(sample):\n",
    "    sample = split(sample,6)\n",
    "    jinhua = [is_jinhua(i) for i in sample]\n",
    "    liuhong = [is_liuhong(i) for i in sample]\n",
    "    liuhei = [is_liuhei(i) for i in sample]\n",
    "    wuwang = [is_wuwang(i) for i in sample]\n",
    "    wuzi = [is_wuzi(i) for i in sample]\n",
    "    zhuangyuan = [is_zhuangyuan(i) for i in sample]\n",
    "    duitang = [is_duitang(i) for i in sample]\n",
    "    sanhong = [is_sanhong(i) for i in sample]\n",
    "    sijin = [is_sijin(i) for i in sample]\n",
    "    erju = [is_erju(i) for i in sample]\n",
    "    yixiu = [is_yixiu(i) for i in sample]\n",
    "    X = sum(array([jinhua,liuhong,liuhei,wuwang,wuzi,zhuangyuan,duitang,sanhong,sijin,erju,yixiu]),axis=1)\n",
    "    return X"
   ]
  },
  {
   "cell_type": "code",
   "execution_count": 4,
   "metadata": {},
   "outputs": [],
   "source": [
    "def generate_sample(n):\n",
    "    prob_value = (array([1,2,3,4,5,6]),array([1/6,1/6,1/6,1/6,1/6,1/6]))\n",
    "    num_dies = 6\n",
    "    die = rv_discrete(a=1,b=6,values=prob_value)\n",
    "    rst = die.rvs(size=n)\n",
    "    return rst\n"
   ]
  },
  {
   "cell_type": "code",
   "execution_count": 7,
   "metadata": {},
   "outputs": [],
   "source": [
    "from scipy.special import factorial\n",
    "def bino_pmf(n,p,k):\n",
    "    return factorial(n)/(factorial(k)*factorial(n-k))*(p**k)*(1-p)**(n-k)\n",
    "probs = bino_pmf(6,1/6,array([6,6,6,5,5,4,6,3,4,2,1]))"
   ]
  },
  {
   "cell_type": "code",
   "execution_count": 13,
   "metadata": {},
   "outputs": [
    {
     "data": {
      "image/png": "[encoded data removed]",
      "text/plain": [
       "<Figure size 1200x800 with 1 Axes>"
      ]
     },
     "metadata": {},
     "output_type": "display_data"
    }
   ],
   "source": [
    "n = 500000\n",
    "sample = generate_sample(n)\n",
    "fig, ax = plt.subplots(figsize=(12, 8))\n",
    "names = ['jinhua','liuhong','liuhei','wuwang','wuzi','zhuangyuan','duitang','sanhong','sijin','erju','yixiu']\n",
    "count = result(sample)/n\n",
    "plt.stem(names,count)\n",
    "ax.scatter(names,probs,edgecolors='r')\n",
    "plt.xlabel('awarded combinations')\n",
    "plt.ylabel('frequecy of combinations')\n",
    "plt.title('Bobing Stimulation')\n",
    "plt.show()"
   ]
  }
 ],
 "metadata": {
  "kernelspec": {
   "display_name": "base",
   "language": "python",
   "name": "python3"
  },
  "language_info": {
   "codemirror_mode": {
    "name": "ipython",
    "version": 3
   },
   "file_extension": ".py",
   "mimetype": "text/x-python",
   "name": "python",
   "nbconvert_exporter": "python",
   "pygments_lexer": "ipython3",
   "version": "3.9.12"
  },
  "orig_nbformat": 4
 },
 "nbformat": 4,
 "nbformat_minor": 2
}
