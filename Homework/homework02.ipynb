{
 "cells": [
  {
   "attachments": {},
   "cell_type": "markdown",
   "metadata": {},
   "source": [
    "##### 5.3.4. \n",
    "+ A physician who has a group of 38 female patients aged 18 to 24 on a special diet wishes to estimate the effect of the diet on total serum cholesterol(血清胆固醇). \n",
    "+ For this group, their average serum cholesterol is 188.4 (measured in mg/100mL). Because of a large-scale government study, the physician is willing to assume that the total serum cholesterol measurements are *normally distributed* with standard deviation of $σ = 40.7$. \n",
    "+ Find a 95% confidence interval of the mean serum cholesterol of patients on the special diet. Does the diet seem to have any effect on their serum cholesterol, given that the national average for women aged 18 to 24 is 192.0?"
   ]
  },
  {
   "attachments": {},
   "cell_type": "markdown",
   "metadata": {},
   "source": [
    "+ **Solution:**\n",
    "1. Given samples are normally distributed, $$\\frac{\\bar{X} - \\mu}{\\sigma/\\sqrt{n}}\\sim N(0,1)$$\n",
    "2. Construct the 95% confidence interval:$$[\\bar{X} - z_{\\alpha/2}\\frac{\\sigma}{\\sqrt{n}}, \\bar{X} + z_{\\alpha/2}\\frac{\\sigma}{\\sqrt{n}}] = [188.4 - 1.96*\\frac{40.7}{38},188.4 + 1.96*\\frac{40.7}{38}] = [175.45951058245598, 201.34048941754403]$$"
   ]
  },
  {
   "cell_type": "code",
   "execution_count": 1,
   "metadata": {},
   "outputs": [
    {
     "data": {
      "text/plain": [
       "[175.45951058245598, 201.34048941754403]"
      ]
     },
     "execution_count": 1,
     "metadata": {},
     "output_type": "execute_result"
    }
   ],
   "source": [
    "from statistics import NormalDist\n",
    "from math import sqrt\n",
    "[188.4 - NormalDist().inv_cdf(0.975)*40.7/sqrt(38),188.4 + NormalDist().inv_cdf(0.975)*40.7/sqrt(38)]"
   ]
  },
  {
   "attachments": {},
   "cell_type": "markdown",
   "metadata": {},
   "source": [
    "##### 5.3.6. \n",
    "+ What “confidence” would be associated with each of the following intervals? Assume that the random variable Y is normally distributed and that σ is known.\n",
    "1. $[\\hat{y}-1.64\\frac{\\sigma}{\\sqrt{n}},\\hat{y}+1.64\\frac{\\sigma}{\\sqrt{n}}]$\n",
    "2. $(-\\infty, \\bar{y}+2.58\\frac{\\sigma}{\\sqrt{n}})$\n",
    "3. $[\\bar{y} - 1.64\\frac{\\sigma}{\\sqrt{n}}, \\bar{y}]$"
   ]
  },
  {
   "attachments": {},
   "cell_type": "markdown",
   "metadata": {},
   "source": [
    "+ **Solution:**\n",
    "    + Given Y follows the standard normal distribution,$\\bar{Y}\\sim N(\\mu,\\frac{\\sigma^2}{n})$,$\\frac{\\bar{Y}-\\mu}{\\sigma/\\sqrt{n}}\\sim N(0,1)$\n",
    "    + Thus, the confidence interval with $\\beta-\\alpha$ level is $[\\bar{X} + z_{\\alpha}\\frac{\\sigma}{\\sqrt{n}}, \\bar{X} + z_{\\beta}\\frac{\\sigma}{\\sqrt{n}}]$\n",
    "    + Assume that $\\Phi(x) = \\int_{-\\infty}^{x}\\frac{1}{\\sqrt{2\\pi}}e^{-\\frac{y^2}{2}}dy $,which is the CDF of the standard normal distribution"
   ]
  },
  {
   "attachments": {},
   "cell_type": "markdown",
   "metadata": {},
   "source": [
    "1. $\\beta - \\alpha = \\Phi(1.64) - \\Phi(-1.64) = 0.8989948330517925$\n",
    "2. $\\beta - \\alpha = \\Phi(2.58) - 0 = 0.9950599842422294$\n",
    "3. $\\beta - \\alpha = 0.5 - \\Phi(-1.64) = 0.44949741652589625$"
   ]
  },
  {
   "attachments": {},
   "cell_type": "markdown",
   "metadata": {},
   "source": [
    "##### 5.3.16. \n",
    "+ On the morning of November 9, 1994—the day after the electoral landslide that had returned Republicans to power in both branches of Congress—several key races were still in doubt. The most prominent was the Washington contest involving Democrat Tom Foley, the reigning speaker of the house. \n",
    "+ An Associated Press story showed how narrow the margin had become (120): With 99 percent of precincts reporting, Foley trailed Republican challenger George Nethercutt by just $2,174$ votes, or 50.6 percent to 49.4 percent. About $14,000$ absentee ballots remained uncounted, making the race too close to call\n",
    "+ Let $p = P(\\text{Absentee voter prefers Foley})$. How small could p have been and still have given Foley a 20% chance of overcoming Nethercutt’s lead and winning the election?"
   ]
  },
  {
   "attachments": {},
   "cell_type": "markdown",
   "metadata": {},
   "source": [
    "+ **Solution:**"
   ]
  },
  {
   "attachments": {},
   "cell_type": "markdown",
   "metadata": {},
   "source": [
    "\\begin{align*}\n",
    "    P(Foley\\space won) &= P(14000\\times p>2174+14000\\times (1-p))\\\\\n",
    "    &= P(28000\\times p>16174)\\\\\n",
    "    &= P(p>0.5776428571428571)\\\\\n",
    "\\end{align*}"
   ]
  },
  {
   "attachments": {},
   "cell_type": "markdown",
   "metadata": {},
   "source": [
    "Assume that the $X = \\text{pro-Foley absentee votes} \\sim Binomial(n,p) = Binomial(2174,p)$\n",
    "\n",
    "By the CLT, $ \\frac{\\bar{X} - np}{\\sqrt{np(1-p)}}\\sim N(0,1)  $\n",
    "\n",
    "Thus, the probability of winning is:\n",
    "\n",
    "\\begin{aligned}\n",
    "    P(Foley\\space won) &= P(np>0.5776428571428571\\times n)  \\\\\n",
    "    &= P(\\bar{X} - np < \\bar{X} - 0.5776428571428571\\times n) \\\\\n",
    "    &= P(\\frac{\\bar{X} - np}{np(1-p)} < \\frac{0.494\\times 2174 - 0.5776428571428571\\times 2174}{2174\\times p(1-p)}) \\\\\n",
    "    &= P(\\frac{\\bar{X} -np}{np(1-p)} < \\frac{-0.08364285714285713}{p(1-p)})\n",
    "\\end{aligned}\n",
    "\n",
    "Given that $P(Foley\\space won)\\geq 20\\%$,we have the inequation:\n",
    "\n",
    "\\begin{aligned}\n",
    "    P(Foley\\space won) = P(\\frac{\\bar{X} -np}{np(1-p)} < \\frac{-0.08364285714285713}{p(1-p)}) &\\geq 0.2 \\\\\n",
    "    \\int_{-\\infty}^{\\frac{-0.08364285714285713}{p(1-p)}}\\frac{1}{\\sqrt{2\\pi}}e^{-\\frac{x^2}{2}}dx &\\geq 0.2    \\\\\n",
    "    \\frac{-0.08364285714285713}{p(1-p)} &\\geq -0.8416212335729142   \\\\\n",
    "    \\frac{0.08364285714285713}{0.8416212335729142} &\\leq p(1-p) \\\\\n",
    "    p^2 - p + 0.09938301673755323 &\\leq 0   \\\\\n",
    "     0.11190596  \\leq p \\leq 0.88809404\n",
    "\\end{aligned}\n",
    "\n",
    "Consequentely, the minimum of $p$ letting Foley win with the chance of $20\\%$ is $0.11190596$"
   ]
  },
  {
   "cell_type": "code",
   "execution_count": 25,
   "metadata": {},
   "outputs": [
    {
     "data": {
      "text/plain": [
       "   cov_x: array([[ 1.65983934, -0.        ],\n",
       "       [ 0.        ,  1.65983937]])\n",
       "    fjac: array([[-0.77618809,  0.        ],\n",
       "       [ 0.        ,  0.77618808]])\n",
       "     fun: array([ 0.00000000e+00, -1.38777878e-17])\n",
       "    ipvt: array([1, 2], dtype=int32)\n",
       " message: 'The relative error between two consecutive iterates is at most 0.000000'\n",
       "    nfev: 16\n",
       "     qtf: array([-2.99760217e-15, -2.19269047e-15])\n",
       "  status: 2\n",
       " success: True\n",
       "       x: array([0.88809404, 0.11190596])"
      ]
     },
     "execution_count": 25,
     "metadata": {},
     "output_type": "execute_result"
    }
   ],
   "source": [
    "from scipy.optimize import root\n",
    "root(fun=lambda x:x**2-x+0.09938301673755323 ,x0=[1,0],method='lm')"
   ]
  },
  {
   "attachments": {},
   "cell_type": "markdown",
   "metadata": {},
   "source": [
    "##### 5.3.26. \n",
    "+ Suppose that $p$ is to be estimated by $\\frac{X}{n}$ and we are willing to assume that the true $p$ will not be greater than $0.4$ \n",
    "+ What is the smallest $n$ for which $\\frac{X}{n}$ will have a 99% probability of being within 0.05 of $p$?"
   ]
  },
  {
   "attachments": {},
   "cell_type": "markdown",
   "metadata": {},
   "source": [
    "+ **Solution:**"
   ]
  },
  {
   "attachments": {},
   "cell_type": "markdown",
   "metadata": {},
   "source": [
    "$$P(|\\frac{X}{n}-p|<0.05)\\geq 0.99$$\n",
    "\n",
    "By the Chebyshev's inequality, \n",
    "\n",
    "$$P(|\\frac{X}{n}-p|<0.05)\\geq 1-\\frac{Var(\\frac{X}{n})}{0.05^2}$$\n",
    "\n",
    "Since $p$ is to be estimated by $\\frac{X}{n}$, $ X \\sim Binomial(n,p) $,which means\n",
    "\n",
    "$$  Var(\\frac{X}{n}) = \\frac{1}{n^2}Var(X) = \\frac{p(1-p)}{n}  $$\n",
    "\n",
    "Therefore,\n",
    "\n",
    "$$P(|\\frac{X}{n}-p|<0.05)\\geq 1-\\frac{Var(\\frac{X}{n})}{0.05^2} =1-\\frac{p(1-p)}{0.05^2\\times n} \\geq 0.99$$\n",
    "\n",
    "Solving for $n$, \n",
    "\n",
    "\\begin{aligned}\n",
    "    0.01 &\\geq \\frac{p(1-p)}{0.05^2\\times n}    \\\\\n",
    "    0.01\\times 0.05^2 \\times n &\\geq p(1-p) \\\\\n",
    "    2.5\\times 10^{-5} n &\\geq 0.24 =  0.4\\times 0.6 \\geq p(1-p) \\\\\n",
    "    n &\\geq 9600\n",
    "\\end{aligned}\n",
    "\n",
    "Thus, the minimum of $n$ is $9600$"
   ]
  },
  {
   "attachments": {},
   "cell_type": "markdown",
   "metadata": {},
   "source": [
    "+ **Correction:**\n",
    "\n",
    "    \\begin{align}\n",
    "        P(|\\frac{X}{n} - p|<0.05)&\\geq 0.99    \\\\\n",
    "        P(|\\frac{\\frac{X}{n} - p}{\\sqrt{p(1-p)/n}}|<\\frac{0.05}{\\sqrt{p(1-p)/n}}) &\\geq 0.99    \\\\\n",
    "        \\Phi(\\frac{0.05}{\\sqrt{p(1-p)/n}}) - \\Phi(-\\frac{0.05}{\\sqrt{p(1-p)/n}}) &\\geq 0.99 \\\\\n",
    "        |\\frac{0.05}{\\sqrt{p(1-p)/n}}| &\\geq 2.5758293035489  \\\\\n",
    "        \\frac{0.05^2n}{p(1-p)} &\\geq 6.634896601021211  \\\\\n",
    "        n &\\geq \\frac{6.634896601021211}{0.05^2}0.4*0.6  \\geq \\frac{6.634896601021211}{0.05^2}p(1-p)  \\\\\n",
    "        n &\\geq 636.9500736980361\n",
    "    \\end{align}"
   ]
  },
  {
   "cell_type": "code",
   "execution_count": 3,
   "metadata": {},
   "outputs": [
    {
     "data": {
      "text/plain": [
       "636.9500736980361"
      ]
     },
     "execution_count": 3,
     "metadata": {},
     "output_type": "execute_result"
    }
   ],
   "source": [
    "2.5758293035489**2/(0.05**2)*0.4*0.6"
   ]
  },
  {
   "cell_type": "code",
   "execution_count": 1,
   "metadata": {},
   "outputs": [
    {
     "data": {
      "text/plain": [
       "2.5758293035489"
      ]
     },
     "execution_count": 1,
     "metadata": {},
     "output_type": "execute_result"
    }
   ],
   "source": [
    "from statistics import NormalDist\n",
    "NormalDist().inv_cdf(0.995)"
   ]
  },
  {
   "attachments": {},
   "cell_type": "markdown",
   "metadata": {},
   "source": [
    "##### 5.3.28. \n",
    "+ University officials are planning to audit 1586 new appointments to estimate the proportion p who have been incorrectly processed by the payroll department.\n",
    "1.  How large does the sample size need to be in order for $\\frac{X}{n}$ , the sample proportion, to have an 85% chance of lying within 0.03 of p?\n",
    "2.  Past audits suggest that p will not be larger than 0.10. Using that information, recalculate the sample size asked for in part (1)."
   ]
  },
  {
   "attachments": {},
   "cell_type": "markdown",
   "metadata": {},
   "source": [
    "+ **Solution:**\n",
    "\n",
    "1. \n",
    "$$ P\\{ |\\frac{X}{n} - p|<0.03 \\} \\geq 0.85 $$\n",
    "\n",
    "Given $p$ is estimated by $\\frac{X}{n}$, $X\\sim Binomial(n,p)$, which means\n",
    "\n",
    "$$ Var(\\frac{X}{n}) = \\frac{p(1-p)}{n} $$\n",
    "\n",
    "By the Chebyshev's inequality,\n",
    "\n",
    "$$ P\\{ |\\frac{X}{n} - p|<0.03 \\} \\geq 1-\\frac{Var(\\frac{X}{n})}{0.03^2} \\geq 0.85 $$\n",
    "\n",
    "\\begin{aligned}\n",
    "    1-\\frac{Var(\\frac{X}{n})}{0.03^2} = 1-\\frac{p(1-p)}{0.03^2\\times n} &\\geq 0.85   \\\\\n",
    "    0.15 &\\geq \\frac{p(1-p)}{0.03^2\\times n}    \\\\\n",
    "    0.15 \\times 0.03^2\\times n &\\geq p(1-p)     \\\\\n",
    "    0.000135\\times n &\\geq p(1-p)   \\\\\n",
    "    n &\\geq \\frac{p(1-p)}{0.000135}\n",
    "\\end{aligned}\n",
    "\n",
    "Thus, the minimum of $n$ is $\\frac{p(1-p)}{0.000135}$"
   ]
  },
  {
   "attachments": {},
   "cell_type": "markdown",
   "metadata": {},
   "source": [
    "2. \n",
    "Given that $p\\leq 0.1$,\n",
    "\n",
    "$$  n \\geq 666.6666666666667 =  \\frac{0.1\\times0.9}{0.000135} = \\frac{p(1-p)}{0.000135} \\geq \\frac{p(1-p)}{0.000135}  $$\n",
    "\n",
    "Thus, the minimum of $n$ is $667$"
   ]
  },
  {
   "attachments": {},
   "cell_type": "markdown",
   "metadata": {},
   "source": [
    "+ **Correction:**\n",
    "\n",
    "    \\begin{align}\n",
    "        P(|\\frac{x}{n} - p|<0.03)&\\geq 0.85   \\\\\n",
    "        P(|\\frac{\\frac{x}{n} - p}{\\sqrt{p(1-p)/n}}|<\\frac{0.03}{\\sqrt{p(1-p)/n}})&\\geq 0.85   \\\\\n",
    "        \\Phi(\\frac{0.03}{\\sqrt{p(1-p)/n}})  &\\geq 1-\\frac{1-0.85}{2} = 0.925 \\\\\n",
    "        \\frac{0.03}{\\sqrt{p(1-p)/n}} \\geq \\frac{0.03\\sqrt{n}}{\\sqrt{0.1\\times 0.9}} =  & \\geq 1.439531470938456 \\\\\n",
    "        \\frac{0.03^2{n}}{{0.1\\times 0.9}} =  & \\geq 2.0722508558222343 \\\\\n",
    "        n &\\geq 207.22508558222347\n",
    "    \\end{align}\n"
   ]
  },
  {
   "cell_type": "code",
   "execution_count": 4,
   "metadata": {},
   "outputs": [
    {
     "data": {
      "text/plain": [
       "207.22508558222347"
      ]
     },
     "execution_count": 4,
     "metadata": {},
     "output_type": "execute_result"
    }
   ],
   "source": [
    "from math import sqrt\n",
    "1.439531470938456**2*0.1*0.9/(0.03**2)"
   ]
  },
  {
   "cell_type": "code",
   "execution_count": 3,
   "metadata": {},
   "outputs": [
    {
     "data": {
      "text/plain": [
       "1.439531470938456"
      ]
     },
     "execution_count": 3,
     "metadata": {},
     "output_type": "execute_result"
    }
   ],
   "source": [
    "from statistics import NormalDist\n",
    "NormalDist().inv_cdf(1-0.075)"
   ]
  },
  {
   "attachments": {},
   "cell_type": "markdown",
   "metadata": {},
   "source": [
    "##### 第6题\n",
    "+ $\\hat{\\theta}$ is an estimator of θ. Prove that $MSE = Var(\\hat{\\theta}) + [Bias(\\hat{\\theta})]^2$"
   ]
  },
  {
   "attachments": {},
   "cell_type": "markdown",
   "metadata": {},
   "source": [
    "+ **Solution:**\n",
    "\n",
    "\\begin{aligned}\n",
    "        MSE &= E[(\\hat{\\theta} - \\theta)^2]\\\\\n",
    "        &= E[(\\hat{\\theta} - E(\\hat{\\theta}) + E(\\hat{\\theta}) - \\theta)^2] \\\\\n",
    "        &= E[(\\hat{\\theta} - E(\\hat{\\theta}))^2 + 2(\\hat{\\theta} - E(\\hat{\\theta}))(E(\\hat{\\theta}) - \\theta) + (E(\\hat{\\theta}) - \\theta)^2] \\\\\n",
    "        &= E[(\\hat{\\theta} - E(\\hat{\\theta}))^2] + 2E[(\\hat{\\theta} - E(\\hat{\\theta}))(E(\\hat{\\theta}) - \\theta)] + E[(E(\\hat{\\theta}) - \\theta)^2] \\\\\n",
    "        &= E[(\\hat{\\theta} - E(\\hat{\\theta}))^2] + 0 + E[(E(\\hat{\\theta}) - \\theta)^2]  \\\\\n",
    "        &= Var(\\hat{\\theta})  + Bias(\\hat{\\theta})^2 \n",
    "\\end{aligned}"
   ]
  },
  {
   "attachments": {},
   "cell_type": "markdown",
   "metadata": {},
   "source": [
    "##### 5.4.6. \n",
    "+ Let $Y_{min}$ be the smallest order statistic in a random sample of size n drawn from the uniform pdf, $$f_Y (y;θ) = \\frac{1}{θ}, 0 ≤ y ≤ θ$$ \n",
    "+ Find an unbiased estimator for $θ$ based on $Y_{min}$."
   ]
  },
  {
   "attachments": {},
   "cell_type": "markdown",
   "metadata": {},
   "source": [
    "+ **Solution:**\n",
    "\n",
    "To find the unbiased estimator for $\\theta$,we need to compute $E(Y_{min})$\n",
    "   \n",
    "$$ E(Y_{min}) = \\int_{0}^{\\theta} yf_{Y_{min}}(y;\\theta)dy  $$\n",
    "\n",
    "where $f_{Y_{min}}(y;\\theta)$ is determined by\n",
    "\n",
    "\\begin{aligned}\n",
    "    F_{Y_{min}}(y;\\theta) &= P(Y_{min}<y)   \\\\\n",
    "    &=  1-\\prod_{i=1}^n (1-P(Y_i<y)) \\\\\n",
    "    &= 1-(1-\\frac{y}{\\theta})^n    \\\\\n",
    "\\end{aligned}\n",
    "\n",
    "Thus, $$f_{Y_{min}}(y;\\theta) = F'_{Y_{min}}(y;\\theta) = \\frac{n}{\\theta}(1-\\frac{y}{\\theta})^{n-1} $$\n"
   ]
  },
  {
   "attachments": {},
   "cell_type": "markdown",
   "metadata": {},
   "source": [
    "\n",
    "The $E(Y_{min})$ can be derived from\n",
    "\n",
    "\\begin{aligned}\n",
    "    E(Y_{min}) &= \\int_{0}^{\\theta} yf_{Y_{min}}(y;\\theta)dy    \\\\\n",
    "       &= \\int_{0}^{\\theta} \\frac{n\\times y}{\\theta}(1-\\frac{y}{\\theta})^{n-1} dy   \\\\\n",
    "        &= \\int_{0}^{\\theta} y d(F_{Y_{min}}(y;\\theta)) \\\\\n",
    "        &= [y\\times F_{Y_{min}}(y;\\theta) ]^{\\theta}_{0} - \\int_{0}^{\\theta} 1-(1-\\frac{y}{\\theta})^n dy    \\\\\n",
    "        &= \\theta - [y + \\frac{1}{\\theta}\\frac{(1-\\frac{y}{\\theta})^{n+1}}{n+1} ]^{\\theta}_{0}  \\\\\n",
    "        &= \\frac{\\theta}{n+1} \n",
    "\\end{aligned}"
   ]
  },
  {
   "attachments": {},
   "cell_type": "markdown",
   "metadata": {},
   "source": [
    "Thus,$(n+1)Y_{min}$ is an unbiased estimator of $\\theta$"
   ]
  },
  {
   "attachments": {},
   "cell_type": "markdown",
   "metadata": {},
   "source": [
    "##### 5.4.9. \n",
    "+ A random sample of size 2, $Y_1$ and $Y_2$, is drawn from the pdf $$f_Y (y;θ) = 2yθ^2, 0 < y < \\frac1θ$$\n",
    "+ What must c equal if the statistic $c(Y_1 + 2Y_2)$ is to be an unbiased estimator for $\\frac1θ$ ?"
   ]
  },
  {
   "attachments": {},
   "cell_type": "markdown",
   "metadata": {},
   "source": [
    "+ **Solution:**\n",
    "\n",
    "\\begin{align*}\n",
    "    E(c(Y_1+2Y_2)) &= cE(Y_1) + 2cE(Y_2)    \\\\\n",
    "    &= 3cE(Y_1) = 3c\\int_{0}^{\\frac{1}{\\theta}} 2\\theta^2 y^2 dy \\\\\n",
    "    &= 3c [\\frac{2\\theta^2 }{3}y^3]^{\\frac{1}{\\theta}}_{0}  \\\\\n",
    "    &=  \\frac{2c}{\\theta}\n",
    "\\end{align*}\n",
    "\n",
    "Let $E(c(Y_1+2Y_2)) = \\frac{1}{\\theta}$, solve for $c$\n",
    "\n",
    "\\begin{align*}\n",
    "    E(c(Y_1+2Y_2)) &= \\frac{1}{\\theta}  \\\\\n",
    "    \\frac{2c}{\\theta} &= \\frac{1}{\\theta}   \\\\\n",
    "    c &= \\frac12 \n",
    "\\end{align*}\n",
    "\n",
    "Thus, $c = \\frac12$"
   ]
  },
  {
   "attachments": {},
   "cell_type": "markdown",
   "metadata": {},
   "source": [
    "##### 5.4.15. \n",
    "+ An estimator $\\hatθ_n = h(W_1, . . . , W_n)$ is said to be asymptotically unbiased for $θ$ if $\\lim_{n→∞}E(\\hat{θ_n}) = θ$. \n",
    "+ Suppose W is a random variable with $E(W) = μ$ and with variance $σ^2$. \n",
    "+ Show that $\\bar{W}^2$ is an asymptotically unbiased estimator for $μ^2$."
   ]
  },
  {
   "attachments": {},
   "cell_type": "markdown",
   "metadata": {},
   "source": [
    "+ **Solution:**\n",
    "\n",
    "Compute $E(\\bar{W^2})$\n",
    "\n",
    "\\begin{align*}\n",
    "    E(\\bar{W^2}) &= E(\\frac1n \\sum W_i)^2   \\\\\n",
    "    &= Var(\\bar{W}) - E(\\bar{W})^2  \\\\\n",
    "    &= \\frac{\\sigma^2}{n} + \\mu^2\n",
    "\\end{align*}\n",
    "\n",
    "Thus, when $n$ is sufficiently large\n",
    "\n",
    "\\begin{align*}\n",
    "    \\lim_{n\\to \\infty} E(\\bar{W^2}) &= \\lim_{n\\to \\infty} (\\frac{\\sigma^2}{n} + \\mu^2)  \\\\\n",
    "    &= \\mu^2\n",
    "\\end{align*}"
   ]
  },
  {
   "attachments": {},
   "cell_type": "markdown",
   "metadata": {},
   "source": [
    "##### 5.4.18. \n",
    "+ Suppose that $n = 5$ observations are taken from the uniform pdf, $$f_Y (y;θ) = \\frac1θ, 0 ≤ y ≤ θ$$, where θ is unknown. Two unbiased estimators for θ are $\\hatθ_1 = \\frac65 · Y_{max}$ and $\\hatθ_2 = 6 · Y_{min}$\n",
    "+ Which estimator would be better to use? \n",
    "  + [Hint: What must be true of $Var(Y_{max})$ and $Var(Y_{min})$ given that $f_Y (y;θ)$ is symmetric?] \n",
    "+ Does your answer as to which estimator is better make sense on intuitive grounds? Explain."
   ]
  },
  {
   "attachments": {},
   "cell_type": "markdown",
   "metadata": {},
   "source": [
    "+ **Solution:**\n",
    "\n",
    "1. Unbiasedness \n",
    "    1. $\\hat{\\theta_1}$:\n",
    "    \n",
    "    Find $F_{Y_{max}}(y;\\theta)$ which determines $f_{Y_{max}}(y;\\theta)$\n",
    "\n",
    "    \\begin{aligned}\n",
    "        F_{Y_{max}}(y;\\theta) &= P(Y_{max}<y) = \\prod_{i=1}^{n}P(Y_i<y) \\\\\n",
    "        &= (\\int_{0}^{y}\\frac{1}{\\theta} dx)^n \\\\\n",
    "        &= (\\frac{y}{\\theta})^n\n",
    "    \\end{aligned}\n",
    "\n",
    "    So we can get $f_{Y_{max}}(y;\\theta) = F'_{Y_{max}}(y;\\theta) = \\frac{n}{\\theta^n}{y}^{n-1}$\n",
    "\n",
    "    Compute $E(\\hat{\\theta_1})$\n",
    "\n",
    "    \\begin{aligned}\n",
    "        E(\\hat{\\theta_1}) &= E(\\frac65 Y_{max})   \\\\\n",
    "        &= \\frac65\\int_{0}^{\\theta} \\frac{n}{\\theta^n}{y}^{n} dy   \\\\\n",
    "        &= \\frac65\\frac{n}{\\theta^n}[\\frac{y^{n+1}}{n+1}]^{\\theta}_{0} \\\\\n",
    "        &= \\frac65\\frac{n}{\\theta^n}\\frac{\\theta^{n+1}}{n+1}   \\\\\n",
    "        &= \\frac65\\frac{n}{n+1} \\theta \\\\\n",
    "        &= \\frac65\\frac{5}{6} \\theta    \\\\\n",
    "        &= \\theta\n",
    "    \\end{aligned}\n",
    "\n",
    "    2. $\\hat{\\theta_2}$:\n",
    "\n",
    "    Find $F_{Y_{min}}(y;\\theta)$ which determines $f_{Y_{min}}(y;\\theta)$\n",
    "\n",
    "    \\begin{aligned}\n",
    "        F_{Y_{min}}(y;\\theta) &= P(Y_{min}<y)   \\\\\n",
    "        &=  1-\\prod_{i=1}^n (1-P(Y_i<y)) \\\\\n",
    "        &= 1-(1-\\frac{y}{\\theta})^n    \\\\\n",
    "    \\end{aligned}\n",
    "\n",
    "    So we can get $f_{Y_{min}}(y;\\theta) = F'_{Y_{min}}(y;\\theta) = \\frac{n}{\\theta}(1-\\frac{y}{\\theta})^{n-1}$\n",
    "\n",
    "    Compute $E(\\hat{\\theta_1})$\n",
    "\n",
    "    \\begin{aligned}\n",
    "        E(\\hat{\\theta_1}) &= E(6 Y_{min})   \\\\\n",
    "        &= 6\\int_{0}^{\\theta} \\frac{n\\times y}{\\theta}(1-\\frac{y}{\\theta})^{n-1} dy   \\\\\n",
    "        &= 6\\int_{0}^{\\theta} y d(F_{Y_{min}}(y;\\theta)) \\\\\n",
    "        &= 6[y\\times F_{Y_{min}}(y;\\theta) ]^{\\theta}_{0} - 6\\int_{0}^{\\theta} 1-(1-\\frac{y}{\\theta})^n dy    \\\\\n",
    "        &= 6\\theta - 6[y + \\frac{1}{\\theta}\\frac{(1-\\frac{y}{\\theta})^{n+1}}{n+1} ]^{\\theta}_{0}  \\\\\n",
    "        &= \\frac{6\\theta}{n+1} \\\\\n",
    "        &= \\theta\n",
    "    \\end{aligned}"
   ]
  },
  {
   "attachments": {},
   "cell_type": "markdown",
   "metadata": {},
   "source": [
    "2. Effiency\n",
    "   1. $\\hat{\\theta_1}$:\n",
    "\n",
    "      \\begin{aligned}\n",
    "         Var(\\hat{\\theta_1}) &= E[(\\frac{n}{n+1} Y_{\\max} )^2] - [E(\\frac{n}{n+1} Y_{\\max})]^2   \\\\\n",
    "         &= E[(\\frac{n}{n+1})^2 Y^2_{\\max} ] - \\theta^2 \\\\\n",
    "         &= (\\frac{n}{n+1})^2E[ Y^2_{\\max} ] - \\theta^2  \\\\\n",
    "         &= (\\frac{n}{n+1})^2 \\int_{0}^{\\theta} \\frac{n}{\\theta^n}{y}^{n+1}dy - \\theta^2  \\\\\n",
    "         &= (\\frac{n}{n+1})^2 [\\frac{n}{\\theta^n}\\frac{y^{n+2}}{n+2}]^{\\theta}_{0} - \\theta^2   \\\\\n",
    "         &= (\\frac{n}{n+1})^2 \\frac{n}{n+2} \\theta^2 - \\theta^2 \\\\\n",
    "         &= [\\frac{n^3}{(n+1)^2(n+2)}-1]\\theta^2   \\\\\n",
    "         &= [\\frac{5^3}{(6)^2(7)}-1]\\theta^2 \\\\\n",
    "         &\\approx 0.49603174603174605\\times\\theta^2\n",
    "      \\end{aligned}\n",
    "\n",
    "\n",
    "   2. $\\hat{\\theta_2}$:\n",
    "\n",
    "      \\begin{aligned}\n",
    "         Var(\\hat{\\theta_2}) &= E[(n+1)Y_{\\min}]^2  - \\theta^2  \\\\\n",
    "         &= (n+1)^2 E(Y_{\\min}^2)   - \\theta^2  \\\\\n",
    "         &= (n+1)^2 \\int_{0}^{\\theta} \\frac{n}{\\theta}y^2(1-\\frac{y}{\\theta})^{n-1}dy \\\\\n",
    "         &= (n+1)^2 [\\frac{5 y^{3}}{3 \\theta} - \\frac{5 y^{4}}{\\theta^{2}} + \\frac{6 y^{5}}{\\theta^{3}} - \\frac{10 y^{6}}{3 \\theta^{4}} + \\frac{5 y^{7}}{7 \\theta^{5}}]^{\\theta}_{0}   \\\\\n",
    "         &= (n+1)^2\\times \\frac{\\theta^2}{21}   \\\\\n",
    "         &\\approx 1.7142857142857142\\times\\theta^2\n",
    "      \\end{aligned}\n",
    "\n",
    "   3. Apparently, $Var(\\hat{\\theta_2})>Var(\\hat{\\theta_1})$, suggesting that $\\hat{\\theta_1}$ is a more efficient esimator."
   ]
  },
  {
   "cell_type": "code",
   "execution_count": 7,
   "metadata": {},
   "outputs": [
    {
     "data": {
      "text/latex": [
       "$\\displaystyle \\frac{\\theta^{2}}{21}$"
      ],
      "text/plain": [
       "theta**2/21"
      ]
     },
     "execution_count": 7,
     "metadata": {},
     "output_type": "execute_result"
    }
   ],
   "source": [
    "import sympy\n",
    "from sympy.abc import theta,n,y\n",
    "sympy.integrate((5/theta)*(1-y/theta)**(4)*y**2,y).subs(y,theta)"
   ]
  },
  {
   "attachments": {},
   "cell_type": "markdown",
   "metadata": {},
   "source": [
    "+ **Correction:**\n",
    "+ By symmetry, we have $$  Var(Y_{\\min}) = Var(Y_{\\max}) = \\sigma^2  $$\n",
    "+ Thus, $$ Var(\\hat{\\theta_1}) = \\frac{25}{36}\\sigma^2 > 36\\sigma^2 = Var(\\hat{\\theta_2}) $$"
   ]
  },
  {
   "attachments": {},
   "cell_type": "markdown",
   "metadata": {},
   "source": [
    "##### 5.4.19. \n",
    "+ Let $Y_1, Y_2, . . . , Y_n$ be a random sample of size n from the pdf $f_Y (y;θ) = \\frac1θ e^{−y/θ}, y > 0$.\n",
    "1. Show that $\\hatθ_1 = Y_{1}$, $\\hatθ_2 = \\bar{Y}$, and $\\hatθ_3 = n · Y_{\\min}$ are all unbiased estimators for $θ$.\n",
    "2. Find the variances of $\\hatθ_1$, $\\hatθ_2$, and $\\hatθ_3$.\n",
    "3.  Calculate the relative efficiencies of $\\hatθ_1$ to $\\hatθ_3$ and $\\hatθ_2$ to $\\hatθ_3$."
   ]
  },
  {
   "attachments": {},
   "cell_type": "markdown",
   "metadata": {},
   "source": [
    "+ **Solution:**\n",
    "\n",
    "1. Unbiasedness :\n",
    "\n"
   ]
  },
  {
   "attachments": {},
   "cell_type": "markdown",
   "metadata": {},
   "source": [
    "\n",
    "1. $\\hat{\\theta_1}$:\n",
    "\n",
    "\\begin{aligned}\n",
    "            E(\\hat{\\theta_1}) &= E(Y_1) \\\\\n",
    "            &= \\int_{0}^{+\\infty} \\frac{y}{\\theta}e^{-\\frac{y}{\\theta}} dy  \\\\\n",
    "            &= [-y e^{-\\frac{y}{\\theta}}]^{+\\infty}_{0} + \\int_{0}^{+\\infty}\\frac{1}{\\theta}e^{-\\frac{y}{\\theta}} dy    \\\\\n",
    "            &= [-e^{-\\frac{y}{\\theta}}]^{+\\infty}_{0} \\\\\n",
    "            &= \\theta\n",
    "\\end{aligned}\n"
   ]
  },
  {
   "cell_type": "markdown",
   "metadata": {},
   "source": [
    "\n",
    "2. $\\hat{\\theta_2}$:\n",
    "\n",
    "    By the CLT, when $n$ is sufficiently large,$$\\bar{X}\\sim N(E(X),\\frac{Var(X)}{n})$$\n",
    "\n",
    "    Thus, the the expectation of $\\hat{\\theta_2}$ is $$ E(\\hat{\\theta_2}) = E(X) = \\theta $$\n"
   ]
  },
  {
   "attachments": {},
   "cell_type": "markdown",
   "metadata": {},
   "source": [
    "\n",
    "3. $\\hat{\\theta_3}$:\n",
    "\n",
    "To dertermine the expectation of $Y_{\\min}$, we should derive the CDF of $Y_{\\min}$\n",
    "\n",
    "\\begin{aligned}\n",
    "            F_{Y_{\\min}}(y) &= P(Y_{\\min}<y)    \\\\\n",
    "            &= 1- \\prod_{i=1}^n (1-P(Y_i<y))    \\\\\n",
    "            &= 1- \\prod_{i=1}^n (1- \\int_{0}^{y}\\frac{1}{\\theta}e^{-s/\\theta}ds)   \\\\\n",
    "            &= 1- \\prod_{i=1}^n (1 - [-e^{-s/\\theta}]^{y}{0})   \\\\\n",
    "            &= 1- \\prod_{i=1}^n (1 + e^{-y/\\theta} -1)  \\\\\n",
    "            &= 1-(e^{-ny/\\theta})\n",
    "\\end{aligned}\n",
    "\n",
    "Then, we have the PDF of $Y_{\\min}$: $$   f_{Y_{\\min}}(y) = \\frac{n}{\\theta}e^{-ny/\\theta}  $$\n",
    "\n",
    "Compute $E(\\hat{\\theta_3})$\n"
   ]
  },
  {
   "attachments": {},
   "cell_type": "markdown",
   "metadata": {},
   "source": [
    "\n",
    "\\begin{aligned}\n",
    "            E(Y_{\\min})  \\\\\n",
    "            &= \\int_{0}^{\\infty} \\frac{n y}{\\theta}e^{-ny/\\theta}dy   \\\\\n",
    "            &= [-y e^{-ny/\\theta}]^{\\infty}_0 + \\int_{0}^{\\infty} e^{-ny/\\theta} dy  \\\\\n",
    "            &= [-\\frac{\\theta}{n}e^{-ny/\\theta}]^{\\infty}_0 \\\\\n",
    "            &= \\frac{\\theta}{n}\n",
    "\\end{aligned}"
   ]
  },
  {
   "attachments": {},
   "cell_type": "markdown",
   "metadata": {},
   "source": [
    "$$ E(\\hat{\\theta_3}) = E(n\\times Y_{\\min}) = \\theta $$"
   ]
  },
  {
   "attachments": {},
   "cell_type": "markdown",
   "metadata": {},
   "source": [
    "2. Efficiency\n",
    "\n"
   ]
  },
  {
   "attachments": {},
   "cell_type": "markdown",
   "metadata": {},
   "source": [
    "\n",
    "1. $\\hat{\\theta_1}$:\n",
    "\n",
    "\\begin{align*}\n",
    "            Var(\\hat{\\theta_1}) &= E(Y_1^2) - E^2(Y_1)  \\\\\n",
    "            &= \\int_{0}^{\\infty} \\frac{y^2}{\\theta}e^{-y/\\theta}  dy -\\theta^2 \\\\\n",
    "            &= [-y^2 e^{-y/\\theta}]^{\\infty}_{0} + \\int_{0}^{\\infty} {2y}e^{-y/\\theta}dy -\\theta^2 \\\\\n",
    "            &= [-2\\theta y e^{-y/\\theta}]^{\\infty}_{0} + \\int_{0}^{\\infty} 2\\theta e^{-y/\\theta}dy - \\theta^2   \\\\\n",
    "            &= [-2\\theta^2 e^{-y/\\theta}]^{\\infty}_{0} - \\theta^2 \\\\\n",
    "            &= \\theta^2 \n",
    "\\end{align*}\n",
    "    \n"
   ]
  },
  {
   "attachments": {},
   "cell_type": "markdown",
   "metadata": {},
   "source": [
    "2. $\\hat{\\theta_2}$:\n",
    "\n",
    "By the CLT, when $n$ is sufficiently large,$$\\bar{X}\\sim N(E(X),\\frac{Var(X)}{n})$$\n",
    "\n",
    "Thus, the the variance of $\\hat{\\theta_2}$ is $$ Var(\\hat{\\theta_2}) = \\frac{Var(X)}{n} = \\frac{\\theta^2}{n} $$\n"
   ]
  },
  {
   "attachments": {},
   "cell_type": "markdown",
   "metadata": {},
   "source": [
    "\n",
    "3. $\\hat{\\theta_3}$:\n",
    "\n",
    "Given that $   f_{Y_{\\min}}(y) = \\frac{n}{\\theta}(1-\\frac{1}{\\theta}e^{-y/\\theta})^{n-1}  $, we can compute the variance of $\\hat{\\theta_3}$\n"
   ]
  },
  {
   "attachments": {},
   "cell_type": "markdown",
   "metadata": {},
   "source": [
    "\n",
    "\\begin{aligned}\n",
    "        Var(\\hat{\\theta_3}) &= E[(n Y_{\\min})^2] - E^2(n Y_{\\min})  \\\\\n",
    "            &= n^2 \\int_{0}^{\\infty} y^2\\frac{n}{\\theta}e^{-ny/\\theta} dy - \\theta^2   \\\\\n",
    "            &= n^2[-y^2e^{-ny/\\theta}]^{\\infty}_0 + n^2 \\int_0^{\\infty}2ye^{-ny/\\theta}dy - \\theta^2    \\\\\n",
    "            &= [-2y\\frac{\\theta}{n}e^{-ny/\\theta}]^{\\infty}_0 + n^2 \\int_0^{\\infty}\\frac{2\\theta}{n}e^{-ny/\\theta}dy- \\theta^2    \\\\\n",
    "            &= n^2[-2\\frac{\\theta^2}{n^2}e^{-ny/\\theta}]^{\\infty}_0 -\\theta^2 \\\\\n",
    "            &= 2\\theta^2 - \\theta^2 \\\\\n",
    "            &= \\theta^2\n",
    "\\end{aligned}"
   ]
  },
  {
   "attachments": {},
   "cell_type": "markdown",
   "metadata": {},
   "source": [
    "3. Relative Efficiency:\n",
    "\n",
    "    $\\hat{\\theta_1}$ to $\\hat{\\theta_3}$:\n",
    "\n",
    "    $$ \\frac{Var{\\hat{\\theta_3}}}{Var{\\hat{\\theta_1}}} = 1 $$\n",
    "\n",
    "    $\\hat{\\theta_2}$ to $\\hat{\\theta_3}$:\n",
    "\n",
    "    $$ \\frac{Var{\\hat{\\theta_3}}}{Var{\\hat{\\theta_2}}} = n $$"
   ]
  },
  {
   "attachments": {},
   "cell_type": "markdown",
   "metadata": {},
   "source": [
    "##### 5.4.20. \n",
    "+ Given a random sample of size n from a Poisson distribution, $\\hatλ_1 = X_1$ and $\\hatλ_2 = \\bar{X}$ are two unbiased estimators for $λ$. \n",
    "+ Calculate the relative efficiency of $\\hatλ_1$ to $\\hatλ_2$"
   ]
  },
  {
   "attachments": {},
   "cell_type": "markdown",
   "metadata": {},
   "source": [
    "+ **Solution:**\n",
    "\n",
    "Given $X\\sim \\text{Poisson}(\\lambda)$, $$f_X(x) = \\frac{\\lambda^x}{x!}e^{-\\lambda} $$\n",
    "\n",
    "Compute the variance of $\\hat{\\lambda_1}$\n",
    "\n",
    "\\begin{aligned}\n",
    "    Var(\\hat{\\lambda_1}) &= E(X_1^2) - E^2(X_1) \\\\\n",
    "    &= \\sum_{i=1}^{\\infty} (\\frac{\\lambda^x}{x!}e^{-\\lambda}x^2) - \\lambda^2    \\\\\n",
    "    &= \\sum_{i=1}^{\\infty} (\\frac{\\lambda^{x-1}}{(x-1)!}e^{-\\lambda}\\lambda x)  - \\lambda^2 \\\\\n",
    "    &= \\sum_{i=1}^{\\infty} (\\frac{\\lambda^{x-2}}{(x-2)!}e^{-\\lambda}\\lambda^2 ) + \\sum_{i=1}^{\\infty} (\\frac{\\lambda^{x-1}}{(x-1)!}e^{-\\lambda}\\lambda) - \\lambda^2 \\\\\n",
    "    &= \\lambda^2 + \\lambda - \\lambda^2  \\\\\n",
    "    &= \\lambda\n",
    "\\end{aligned}\n"
   ]
  },
  {
   "attachments": {},
   "cell_type": "markdown",
   "metadata": {},
   "source": [
    "By the CLT, when $n$ is sufficiently large, $$\\bar{X} \\sim N(E(X),\\frac{Var{X}}{n})$$\n",
    "\n",
    "Thus, the variance of $\\hat{\\theta_2}$ is $Var({\\theta_2}) = \\frac{\\lambda}{n}$"
   ]
  },
  {
   "attachments": {},
   "cell_type": "markdown",
   "metadata": {},
   "source": [
    "Thus,we have the relative efficiency\n",
    "\n",
    "$$ \\frac{Var({\\hat{\\theta_2}})}{Var({\\hat{\\theta_1}})} = \\frac{\\lambda}{\\lambda/n} = n $$"
   ]
  },
  {
   "attachments": {},
   "cell_type": "markdown",
   "metadata": {},
   "source": [
    "##### 第13题\n",
    "+ Write R/python code using Newton-Raphson Algorithm to solve the equation $$ x - 2\\sin x +1=0  $$"
   ]
  },
  {
   "cell_type": "code",
   "execution_count": 18,
   "metadata": {},
   "outputs": [],
   "source": [
    "import sympy\n",
    "from sympy.abc import x\n",
    "\n",
    "expr = x - sympy.sin(x) +1\n",
    "grad = expr.diff(x)\n",
    "\n",
    "k=0.1\n",
    "y = expr.subs(x,k)\n",
    "\n",
    "while True:\n",
    "    k = k-y/grad.subs(x,k)\n",
    "    y = expr.subs(x,k)\n",
    "    if abs(y) < 1e-7:\n",
    "        break\n",
    "print(f'The numerical solution of x:{k}' )"
   ]
  }
 ],
 "metadata": {
  "kernelspec": {
   "display_name": "base",
   "language": "python",
   "name": "python3"
  },
  "language_info": {
   "codemirror_mode": {
    "name": "ipython",
    "version": 3
   },
   "file_extension": ".py",
   "mimetype": "text/x-python",
   "name": "python",
   "nbconvert_exporter": "python",
   "pygments_lexer": "ipython3",
   "version": "3.9.12"
  },
  "orig_nbformat": 4,
  "vscode": {
   "interpreter": {
    "hash": "230b3ff13fbf17182562d98b6b92d0993293f138d9d821fa36058128ba3119c0"
   }
  }
 },
 "nbformat": 4,
 "nbformat_minor": 2
}
