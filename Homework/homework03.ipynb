{
 "cells": [
  {
   "attachments": {},
   "cell_type": "markdown",
   "metadata": {},
   "source": [
    "##### 5.4.21"
   ]
  },
  {
   "attachments": {},
   "cell_type": "markdown",
   "metadata": {},
   "source": [
    "+ If $Y_1, Y_2, . . . , Y_n$ are random observations from a uniform pdf over $[0, θ]$, both $\\hat{θ_1} =  \\frac{n+1}{n}  · Y{\\max}$ and $\\hat{θ_2} = (n + 1)Y{\\min}$ are unbiased estimators for $θ$. \n",
    "  + Show that $Var(\\hatθ_2)/Var(\\hatθ_1) = n^2$."
   ]
  },
  {
   "attachments": {},
   "cell_type": "markdown",
   "metadata": {},
   "source": [
    "+ **Solution:**"
   ]
  },
  {
   "attachments": {},
   "cell_type": "markdown",
   "metadata": {},
   "source": [
    "Given $Y_1,...,Y_n \\sim^{i.i.d.} U(0,\\theta)$,$$f_Y(y;\\theta) = \\frac{1}{\\theta}, 0\\leq y \\leq \\theta $$\n",
    "\n",
    "Derive the pdf of $Y_{\\max}$:\n",
    "\n",
    "\\begin{aligned}\n",
    "    F_{Y_{\\max}}(y;\\theta) &= P(Y_{\\max}\\leq y) \\\\\n",
    "    &= \\prod_{i=1}^n P(Y\\leq y) \\\\\n",
    "    &= \\prod_{i=1}^n \\frac{y}{\\theta}   \\\\\n",
    "    &= (\\frac{y}{\\theta})^n\n",
    "\\end{aligned}\n",
    "\n",
    "$$f_{Y_{\\max}}(y;\\theta)  = \\frac{n}{\\theta}(\\frac{y}{\\theta})^{n-1} $$\n",
    "\n",
    "Compute $Var(\\hat{\\theta_1})$:\n",
    "\n",
    "\\begin{aligned}\n",
    "    Var(\\hat{\\theta_1}) &= E[(\\frac{n+1}{n}Y_{\\max})^2] - \\theta^2  \\\\\n",
    "    &= (\\frac{n+1}{n})^2 \\int_{0}^{\\theta} \\frac{n}{\\theta^n}y^{n+1}dy - \\theta^2   \\\\\n",
    "    &= (\\frac{n+1}{n})^2 [\\frac{n}{n+2}\\theta^{-n} y^{n+2}]^{\\theta}_0 - \\theta^2  \\\\\n",
    "    &= [\\frac{(n+1)^2}{n(n+2)}-1]\\theta^2 \\\\\n",
    "    &= \\frac{1}{n(n+2)}\\theta^2\n",
    "\\end{aligned}"
   ]
  },
  {
   "attachments": {},
   "cell_type": "markdown",
   "metadata": {},
   "source": [
    "+ **Correction:**"
   ]
  },
  {
   "attachments": {},
   "cell_type": "markdown",
   "metadata": {},
   "source": [
    "Derive the pdf of $Y_{\\min}$:\n",
    "\n",
    "\\begin{aligned}\n",
    "    F_{Y_{\\min}}(y;\\theta) &= P(Y_{\\min}\\leq y)   \\\\\n",
    "    &= 1-\\prod_{i=1}^n P(Y>y)   \\\\\n",
    "    &= 1- \\prod_{i=1}^n (1-\\frac{y}{\\theta})  \\\\\n",
    "    &= 1- (1-\\frac{y}{\\theta})^n\n",
    "\\end{aligned}\n",
    "\n",
    "$$ f_{Y_{\\min}}(y;\\theta) = \\frac{n}{\\theta}(1-\\frac{y}{\\theta})^{n-1} = \\frac{n}{\\theta^{n}}(\\theta - y)^{n-1} $$\n",
    "\n",
    "Compute $Var(\\hat{\\theta_2})$:\n",
    "\n",
    "\\begin{aligned}\n",
    "    Var(\\hat{\\theta_2}) &= E[(n+1)Y_{\\min}]^2   - \\theta^2  \\\\\n",
    "    &= (n+1)^2\\theta^{-n} \\int_{0}^{\\theta} n y^2(\\theta - y)^{n-1}dy -\\theta^2   \\\\\n",
    "    &= (n+1)^2 \\theta^{-n}\\int_{0}^{\\theta} y^2 d({-(\\theta-y)^n}) - \\theta^2   \\\\\n",
    "    &= (n+1)^2 \\theta^{-n}\\{  [y^2 {-(\\theta-y)^n}]^{\\theta}_0 + \\int_{0}^{\\theta}2y {(\\theta-y)^n} dy  \\} -\\theta^2    \\\\\n",
    "    &= (n+1)^2 \\theta^{-n} \\{ 0- [2y \\frac{(\\theta-y)^{n+1}}{(n+1)}]^{\\theta}_0 + \\int_{0}^{\\theta}2\\frac{(\\theta-y)^{n+1}}{(n+1)}dy \\} - \\theta^2  \\\\\n",
    "    &= (n+1)^2 \\theta^{-n}   \\{0-[2\\frac{(\\theta-y)^{n+2}}{(n+1)(n+2)}]^{\\theta}_{0}\\}   - \\theta^2 \\\\\n",
    "    &= (\\frac{2(n+1)}{n+2} - 1) \\theta^2  \\\\\n",
    "    &= \\frac{n}{n+2}\\theta^2\n",
    "\\end{aligned}"
   ]
  },
  {
   "attachments": {},
   "cell_type": "markdown",
   "metadata": {},
   "source": [
    "Thus, we have $$  \\frac{Var(\\hat{\\theta_2})}{\\hat{\\theta_1}} = n^2  $$"
   ]
  },
  {
   "attachments": {},
   "cell_type": "markdown",
   "metadata": {},
   "source": [
    "##### Theorem 5.5.1"
   ]
  },
  {
   "attachments": {},
   "cell_type": "markdown",
   "metadata": {},
   "source": [
    "+ (Prove the Cramér-Rao Inequality.) \n",
    "+ Let $f_Y (y;θ)$ be a continuous pdf with continuous first-order and second-order derivatives. Also, suppose that the set of $y$ values, where $f_Y (y;θ)=0$, does not depend on $θ$.\n",
    "+ Let $Y_1, Y_2, . . . , Y_n$ be a random sample from $f_Y (y;θ)$, and let $\\hatθ = h(Y_1, Y_2, . . . , Y_n)$ be any unbiased estimator of θ. Then $$  Var(\\hat{\\theta}) \\geq \\frac{1}{n}(E[\\frac{\\partial \\ln(f_{Y^n}(Y,\\theta))}{\\partial \\theta}]^2)^{-1} = -\\frac{1}{n}(E[\\frac{\\partial^2 \\ln(f_{Y^n}(Y,\\theta))}{\\partial\\theta^2 }])^{-1} $$"
   ]
  },
  {
   "attachments": {},
   "cell_type": "markdown",
   "metadata": {},
   "source": [
    "+ **Solution:**"
   ]
  },
  {
   "attachments": {},
   "cell_type": "markdown",
   "metadata": {},
   "source": [
    "\\begin{aligned}\n",
    "          \\text{By the Cauchy-Schwarz inequality:} \n",
    "          Cov^2[\\hat{\\theta},\\frac{\\partial \\ln f_{Y^n}(y,\\theta)}{\\partial \\theta}] &\\leq Var(\\hat{\\theta})\\times Var[\\frac{\\partial \\ln f_{Y^n}(y,\\theta)}{\\partial \\theta}]  \\\\\n",
    "          Var(\\hat{\\theta}) &\\geq \\frac{Cov^2[\\hat{\\theta},\\frac{\\partial \\ln f_{Y^n}(y,\\theta)}{\\partial \\theta}]}{Var[\\frac{\\partial \\ln f_{Y^n}(y,\\theta)}{\\partial \\theta}]}   \\\\\n",
    "\\end{aligned}\n",
    "\n",
    "Compute $Cov^2[\\hat{\\theta},\\frac{\\partial \\ln f_{Y^n}(y,\\theta)}{\\partial \\theta}]$:\n",
    "\n",
    "\\begin{aligned}\n",
    "          &Cov^2[\\hat{\\theta},\\frac{\\partial \\ln f_{Y^n}(y,\\theta)}{\\partial \\theta}] \\\\\n",
    "          &= E\\{ \\hat{\\theta}\\times \\frac{\\partial \\ln f_{Y^n}(y,\\theta)}{\\partial \\theta} \\} -E(\\hat{\\theta}) E[\\frac{\\partial \\ln f_{Y^n}(y,\\theta)}{\\partial \\theta}]  \\\\\n",
    "          &= \\int \\hat{\\theta} \\frac{\\partial \\ln f_{Y^n}(y,\\theta)}{\\partial \\theta} f_{Y^n}(y,\\theta) dy  \\\\\n",
    "          &= \\int \\hat{\\theta} \\frac{\\partial f_{Y^n}(y,\\theta)}{\\partial \\theta} dy  \\\\\n",
    "          \\text{Exchange the order of differentiation and integration:}&= \\frac{\\partial [\\int \\frac{\\partial f_{Y^n}(y,\\theta)}{\\partial \\theta} dy]}{\\partial \\theta} \\\\\n",
    "          &= \\frac{\\partial E(\\hat{\\theta})}{\\partial \\theta} = \\frac{d E(\\hat{\\theta})}{d \\theta}\n",
    "\\end{aligned}\n",
    "\n",
    "Compute $Var[\\frac{\\partial \\ln f_{Y^n}(y,\\theta)}{\\partial \\theta}]$:\n",
    "\n",
    "\\begin{aligned}\n",
    "        &Var[\\frac{\\partial \\ln f_{Y^n}(y,\\theta)}{\\partial \\theta}]  \\\\\n",
    "        &= E[\\frac{\\partial \\ln f_{Y^n}(y,\\theta)}{\\partial \\theta}]^2 - E^2[\\frac{\\partial \\ln f_{Y^n}(y,\\theta)}{\\partial \\theta}]  \\\\\n",
    "        &= E[\\frac{\\partial \\ln f_{Y^n}(y,\\theta)}{\\partial \\theta}]^2 +0 \\\\\n",
    "        &= E[\\frac{\\partial \\ln \\prod_{i=1}^n f_{Y_i}(y,\\theta)}{\\partial \\theta}]^2  \\\\\n",
    "        &= E[\\frac{\\partial \\sum_{i=1}^n\\ln  f_{Y_i}(y,\\theta)}{\\partial \\theta}]^2 \\\\\n",
    "        &= \\sum_{i=j=1}^n E[\\frac{\\partial  \\ln  f_{Y_i}(y,\\theta)}{\\partial \\theta}]^2  + \\sum_{i\\neq j}^n E[\\frac{\\partial  \\ln  f_{Y_i}(y,\\theta)}{\\partial \\theta}\\times \\frac{\\partial f_{Y_j}(y,\\theta)}{\\partial \\theta}]\\\\\n",
    "        &= nE[\\frac{\\partial \\ln f_{Y}(y,\\theta)}{\\partial \\theta}]^2 + \\sum_{i\\neq j}^n E[\\frac{\\partial  \\ln  f_{Y_i}(y,\\theta)}{\\partial \\theta}] E[\\frac{\\partial f_{Y_j}(y,\\theta)}{\\partial \\theta}]  \\\\\n",
    "        &= nE[\\frac{\\partial \\ln f_{Y}(y,\\theta)}{\\partial \\theta}]^2 + 0\\\\\n",
    "        &= n\\times I(\\theta)\n",
    "\\end{aligned}"
   ]
  },
  {
   "attachments": {},
   "cell_type": "markdown",
   "metadata": {},
   "source": [
    "Thus, we obtain the Cramer-Rao lower bound:$$  Var(\\hat{\\theta}) \\geq \\frac{d[E(\\hat{\\theta})]}{d\\theta}[n\\times I(\\theta)]^{-1}  $$"
   ]
  },
  {
   "attachments": {},
   "cell_type": "markdown",
   "metadata": {},
   "source": [
    "##### 5.5.1\n"
   ]
  },
  {
   "attachments": {},
   "cell_type": "markdown",
   "metadata": {},
   "source": [
    "+ Let $Y_1,Y_2,...,Y_n$ be a random sample from $$f_Y(y;θ) = \\frac1θ e^{−y/θ}, y > 0$$\n",
    "+ Compare the Cramér-Rao lower bound for $f_Y(y;θ)$ to the variance of the maximum likelihood estimator for θ,$$\\hatθ = \\frac1n \\sum^n_{i=1} Y_i$$\n",
    "+ Is $\\bar{Y}$ a best estimator for θ?"
   ]
  },
  {
   "attachments": {},
   "cell_type": "markdown",
   "metadata": {},
   "source": [
    "+ **Solution:**"
   ]
  },
  {
   "attachments": {},
   "cell_type": "markdown",
   "metadata": {},
   "source": [
    "Compute the Fisher information $I(\\theta)$:\n",
    "\n",
    "\\begin{aligned}\n",
    "    I(\\theta) &= -E[\\frac{\\partial^2 \\ln(f(y,\\theta))}{\\partial \\theta^2}]  \\\\\n",
    "    &= -E[\\frac{\\partial^2 (-\\ln\\theta - \\frac{y}{\\theta})}{\\partial \\theta^2}] \\\\\n",
    "    &= -E[\\frac{\\partial (-\\frac{1}{\\theta}+ \\frac{y}{\\theta^2})}{\\partial \\theta}] \\\\\n",
    "    &= -E[\\frac{1}{\\theta^2} -2 \\frac{y}{\\theta^3}]    \\\\\n",
    "    &= \\frac{2}{\\theta^2}-\\frac{1}{\\theta^2}  \\\\\n",
    "    &= \\frac{1}{\\theta^2}\n",
    "\\end{aligned}"
   ]
  },
  {
   "attachments": {},
   "cell_type": "markdown",
   "metadata": {},
   "source": [
    "Thus, we obtain the Cramer-Rao lower bound:$$Var(\\hat{\\theta})\\geq \\frac{d[E(\\hat{\\theta})]}{d\\theta}[n\\times I(\\theta)]^{-1} = \\frac{\\theta^2}{n} $$"
   ]
  },
  {
   "attachments": {},
   "cell_type": "markdown",
   "metadata": {},
   "source": [
    "By the CLT, when $n$ is suffientlty large, we have $$\\bar{Y}\\sim^{d} N(\\mu,\\frac{\\sigma^2}{n}) = N(\\theta,\\frac{\\theta^2}{n})$$\n",
    "\n",
    "Thus, $$  Var(\\bar{Y}) = \\frac{\\theta^2}{n} \\leq Var(\\hat{\\theta})  $$\n",
    "\n",
    "$\\bar{Y}$ is a best estimator for the $\\theta$"
   ]
  },
  {
   "cell_type": "markdown",
   "metadata": {},
   "source": [
    "\n",
    "##### 5.5.2\n"
   ]
  },
  {
   "attachments": {},
   "cell_type": "markdown",
   "metadata": {},
   "source": [
    "+ Let $X_1, X_2,..., X_n$ be a random sample of size n from the Poisson distribution, $$p_X(k;λ) = \\frac{e^{−λ}λ^k}{k!} ,k = 0,1,.... $$\n",
    "+ Show that $\\hatλ = \\frac1n \\sum^{n}_{i=1} X_i$ is an efficient estimator for λ."
   ]
  },
  {
   "attachments": {},
   "cell_type": "markdown",
   "metadata": {},
   "source": [
    "+ **Solution:**"
   ]
  },
  {
   "attachments": {},
   "cell_type": "markdown",
   "metadata": {},
   "source": [
    "Compute the log-PMF of $X$:$$l(\\lambda) =  k\\ln(\\lambda) - {\\lambda}$$\n",
    "\n",
    "Compute the score function of $\\lambda$: $$\\frac{\\partial l(\\lambda)}{\\partial \\lambda} = \\frac{k}{\\lambda} - 1 $$\n",
    "\n",
    "Derive the Fisher information of $\\lambda$: $$-E[\\frac{\\partial^2 l(\\lambda)}{\\partial \\lambda^2}] = E(\\frac{k}{\\lambda^2}) = \\frac{1}{\\lambda}  $$\n",
    "\n",
    "Now, we obtain the Cramer-Rao lower bound of $\\lambda$: $$ Var(\\hat{\\lambda}) \\geq \\frac{d[E(\\hat{\\lambda})]}{d\\lambda}[n\\times I(\\theta)]^{-1} = \\frac{\\lambda}{n} $$"
   ]
  },
  {
   "attachments": {},
   "cell_type": "markdown",
   "metadata": {},
   "source": [
    "By the CLT, when $n$ is sufficiently large, $$ \\hat{\\lambda} = \\bar{X} \\sim^{d} N(\\mu,\\frac{\\sigma^2}{n}) = N(\\lambda,\\frac{\\lambda}{n}) $$\n",
    "\n",
    "Thus, $  Var{\\hat{\\lambda}} = B(\\lambda)    $, $\\hat{\\lambda} = \\bar{X}$ is an efficient estimator for $\\lambda$"
   ]
  },
  {
   "cell_type": "markdown",
   "metadata": {},
   "source": [
    "\n",
    "##### 5.5.6"
   ]
  },
  {
   "attachments": {},
   "cell_type": "markdown",
   "metadata": {},
   "source": [
    "+ Let $Y_1,Y_2,...,Y_n$ be a random sample of size n from the pdf $$ f_Y(y;θ) =\\frac{1}{(r − 1)!θ^r}y^{r−1}e^{−y/θ}, y > 0$$\n",
    "  1. Show that $\\hatθ = \\frac1r \\bar{Y}$ is an unbiased estimator for θ.\n",
    "  2.  Show that $\\hatθ = \\frac1r \\bar{Y}$ is a minimum-variance estimator for θ."
   ]
  },
  {
   "attachments": {},
   "cell_type": "markdown",
   "metadata": {},
   "source": [
    "+ **Solution:**"
   ]
  },
  {
   "attachments": {},
   "cell_type": "markdown",
   "metadata": {},
   "source": [
    "1. Unbiasedness :\n",
    "\n",
    "    Compute the expectation of $Y$:\n"
   ]
  },
  {
   "attachments": {},
   "cell_type": "markdown",
   "metadata": {},
   "source": [
    "\n",
    "\\begin{align*}\n",
    "        E(Y) &= \\frac{1}{(r-1)!\\theta^r}\\int_{0}^{\\infty} y^{r} e^{-y/\\theta}dy \\\\\n",
    "        &= \\frac{1}{(r-1)!\\theta^r}\\{[-\\theta y^{r} e^{-y/\\theta}]^{\\infty}_{0} - (-\\theta) r \\int_{0}^{\\infty} y^{r-1}e^{-y/\\theta}dy\\}   \\\\\n",
    "        &...(\\text{Repeat for r times})...  \\\\\n",
    "        &= \\frac{1}{(r-1)!\\theta^r}\\{ \\theta^r r! \\int_{0}^{\\infty} e^{-y/\\theta}dy\\}   \\\\\n",
    "        &= \\frac{1}{(r-1)!\\theta^r}\\{ \\theta^{r+1}r! [e^{-y/\\theta}]^{\\infty}_0\\} \\\\\n",
    "        &= \\frac{\\theta^{r+1}r!}{(r-1)!\\theta^r} \\\\\n",
    "        &= \\theta r\n",
    "\\end{align*}\n"
   ]
  },
  {
   "attachments": {},
   "cell_type": "markdown",
   "metadata": {},
   "source": [
    "+ \n",
    "    By the CLT, when $n$ is sufficiently large, $  \\bar{Y} \\sim N(\\mu,\\frac{\\sigma^2}{n})  $.\n",
    "\n",
    "    Thus, we have $$ E(\\hat{\\theta}) = E(\\frac1r \\bar{Y}) = \\theta $$\n",
    "\n",
    "    So, $\\hat{\\theta}$ is an unbiased estimator for $\\theta$"
   ]
  },
  {
   "attachments": {},
   "cell_type": "markdown",
   "metadata": {},
   "source": [
    "2. Efficiency:\n",
    "\n",
    "    Compute the log-pdf of $Y$: $$ l(\\theta) = -r\\ln(\\theta)-\\ln[(r-1)!]+ (r-1)\\ln(y)-\\frac{y}{\\theta} $$\n",
    "\n",
    "    Derive the score function: $$ \\frac{\\partial l(\\theta)}{\\partial \\theta} = -\\frac{r}{\\theta} + \\frac{y}{\\theta^2} $$\n",
    "\n",
    "    Compute the Fisher information: $$ I(\\theta) = -E(\\frac{\\partial^2 l(\\theta)}{\\partial \\theta^2}) = -E(\\frac{r}{\\theta^2} - 2\\frac{y}{\\theta^3}) = -\\frac{r}{\\theta^2} + 2\\frac{r}{\\theta^2} = \\frac{r}{\\theta^2} $$\n",
    "\n",
    "    Thus, we obtain the Cramer-Rao lower bound: $$ Var({\\hat{\\theta}}) \\geq B(\\theta) = \\frac{d[E(\\hat{\\theta})]}{d\\theta}(n\\times I(\\theta))^{-1} = \\frac{\\theta^2}{n\\times r} $$\n"
   ]
  },
  {
   "attachments": {},
   "cell_type": "markdown",
   "metadata": {},
   "source": [
    "+ \n",
    "    Compute the $Var({\\hat{\\theta}})$:\n",
    "\n",
    "\\begin{aligned}\n",
    "        Var({\\bar{Y}}) &= \\frac{Var(Y)}{n}   \\\\\n",
    "        &= \\frac1n E(Y^2) - \\frac{\\theta^2 r^2}{n} \\\\\n",
    "        &= \\frac1n \\int_{0}^{\\infty} \\frac{1}{(r − 1)!θ^r}y^{r+1}e^{−y/θ} dy - \\frac{\\theta^2  r^2}{n}   \\\\\n",
    "        &= \\frac{1}{n(r − 1)!θ^r} \\int_{0}^{\\infty} y^{r+1}e^{−y/θ} dy - \\frac{\\theta^2 r^2}{n}  \\\\\n",
    "        &= \\frac{\\theta^{r+1}(r+1)!}{n(r − 1)!θ^r} \\int_{0}^{\\infty} e^{−y/θ} dy - \\frac{\\theta^2 r^2}{n}   \\\\\n",
    "        &= -\\frac{\\theta^2 r(r+1)}{n}   [e^{−y/θ}]^{\\infty}_{0} - \\frac{\\theta^2 r^2}{n} \\\\\n",
    "        &= \\frac{\\theta^2 r(r+1)}{n}- \\frac{\\theta^2 r^2}{n}    \\\\\n",
    "        &= \\frac{\\theta^2 r}{n}\n",
    "\\end{aligned}\n",
    "\n",
    "+ \n",
    "    $$ Var({\\hat{\\theta}}) = \\frac{Var({\\bar{Y}})}{r^2} = \\frac{\\theta^2}{n\\times r} = B(\\theta) $$\n",
    "\n",
    "    Thus, $\\hat{\\theta}$ is a minium-variance estimator"
   ]
  },
  {
   "attachments": {},
   "cell_type": "markdown",
   "metadata": {},
   "source": [
    "##### 5.6.5\n"
   ]
  },
  {
   "attachments": {},
   "cell_type": "markdown",
   "metadata": {},
   "source": [
    "+ Let $Y_1,Y_2,...,Y_n$ be a random sample of size n from the pdf of Question 5.5.6, $$f_Y(y;θ) =\\frac{1}{(r − 1)!θ^r}y^{r−1}e^{−y/θ}, 0 ≤ y $$ for positive parameter θ and r a known positive integer.\n",
    "+ Find a sufficient statistic for θ."
   ]
  },
  {
   "attachments": {},
   "cell_type": "markdown",
   "metadata": {},
   "source": [
    "+ **Solution:**"
   ]
  },
  {
   "attachments": {},
   "cell_type": "markdown",
   "metadata": {},
   "source": [
    "\\begin{aligned}\n",
    "    f_{Y^n}(y^n;\\theta) &= \\prod_{i=1}^{n} \\frac{1}{(r-1)!\\theta^r} y_i^{r-1} e^{-y_i/\\theta}   \\\\\n",
    "    &= [\\frac{1}{(r-1)!\\theta^r}]^n \\prod_{i=1}^{n} y_i^{r-1} e^{-y_i/\\theta}   \\\\\n",
    "    &= [\\frac{1}{(r-1)!\\theta^r}]^n e^{-(\\sum_{i=1}^n y_i)/n\\theta} \\prod_{i=1}^{n} y_i^{r-1}  \\\\\n",
    "    &= [\\frac{1}{(r-1)!\\theta^r}]^n e^{-(\\sum_{i=1}^n y_i)/n\\theta} e^{(r-1)^{-1}\\sum_{i=1}^n \\ln(y_i)} \\\\\n",
    "    &= \\frac{e^{-(\\sum_{i=1}^n y_i)/n\\theta}}{\\theta^r} \\cdot \\frac{e^{(r-1)^{-1}\\sum_{i=1}^n \\ln(y_i)}}{(r-1)!}    \\\\\n",
    "    &= g(T,\\theta)h(y^n)    \\space\\space(\\text{where }T = \\bar{Y} = \\frac{\\sum_{i=1}^n y_i}{n})\n",
    "\\end{aligned}"
   ]
  },
  {
   "attachments": {},
   "cell_type": "markdown",
   "metadata": {},
   "source": [
    "Thus, $\\bar{Y} = \\frac{\\sum_{i=1}^n y_i}{n}$ is a sufficient statistic for $\\theta$"
   ]
  },
  {
   "cell_type": "markdown",
   "metadata": {},
   "source": [
    "\n",
    "##### 5.6.7"
   ]
  },
  {
   "attachments": {},
   "cell_type": "markdown",
   "metadata": {},
   "source": [
    "+ Suppose a random sample of size n is drawn from the pdf $$ f_Y(y;θ) = e^{−(y−θ)}, θ ≤ y $$\n",
    "1.  Show that $\\hatθ = Y_{\\min}$ is sufficient for the threshold parameter θ.\n",
    "2. Show that $Y_{\\max}$ is not sufficient for θ."
   ]
  },
  {
   "attachments": {},
   "cell_type": "markdown",
   "metadata": {},
   "source": [
    "+ **Solution:**"
   ]
  },
  {
   "attachments": {},
   "cell_type": "markdown",
   "metadata": {},
   "source": [
    "1. $Y_{\\min}$:\n",
    "\n",
    "\\begin{aligned}\n",
    "        f_{Y^n}(y^n;\\theta) &= \\prod_{i=1}^{n} e^{-(y_i-\\theta)} \\cdot \\Bbb{1}_{y_i\\geq \\theta}   \\\\\n",
    "        &= e^{-(\\sum_{i=1}^{n} y_i) - n\\cdot \\theta}  \\prod_{i=1}^{n}\\Bbb{1}_{y_i\\geq \\theta}  \\\\\n",
    "        &= e^{-(\\sum_{i=1}^{n} y_i)}[e^{- n\\cdot \\theta}\\Bbb{1}_{y_{\\min}\\geq \\theta}] \\\\\n",
    "        &= h(y^n)g(\\theta,t = y_{\\min})\n",
    "\\end{aligned}\n",
    "\n",
    "+ \n",
    "    Thus, $T = Y_{\\min}$ is a sufficient statistic for $\\theta$"
   ]
  },
  {
   "attachments": {},
   "cell_type": "markdown",
   "metadata": {},
   "source": [
    "2. $Y_{\\max}$:\n",
    "\n",
    "    Let $T = Y_{\\max}$. Assume that $f_{Y^n}(y^n;\\theta) = h(y^n)g(\\theta,t = y_{\\max})$\n",
    "\n",
    "\\begin{aligned}\n",
    "        f_{Y^n}(y^n|t(y^n);\\theta) &= \\frac{f_{Y^n}(y^n;\\theta)}{P(T = t;\\theta)}  \\\\\n",
    "        &= \\frac{\\prod_{i=1}^{n} e^{-(y_i-\\theta)} \\cdot \\Bbb{1}_{y_i\\geq \\theta}}{g(y_{\\max},\\theta)}  \\\\\n",
    "        &= \\frac{\\prod_{i=1}^{n}e^{-y_i}\\cdot \\Bbb{1}_{y_i\\geq \\theta}}{g(y_{\\max},\\theta)e^{n\\theta}}  \\\\\n",
    "\\end{aligned}\n",
    "\n",
    "+ \n",
    "    Since $\\prod_{i=1}^{n}e^{-y_i}\\cdot \\Bbb{1}_{y_i\\geq \\theta}$ can not be represented as $h(y^n)$,$T = Y_{\\max}$ is not a sufficient statistic for $\\theta$"
   ]
  },
  {
   "attachments": {},
   "cell_type": "markdown",
   "metadata": {},
   "source": [
    "##### 第8题\n"
   ]
  },
  {
   "attachments": {},
   "cell_type": "markdown",
   "metadata": {},
   "source": [
    "+ $\\{X_1,..., X_n\\}$ are i.i.d. samples. $S^2 = \\frac{1}{n(n-1)}\\sum_{i\\neq j}\\frac{(X_i - X_j)^2}{2}$ is called the U-statistic for $\\sigma^2$\n",
    "  + Prove that $S^2$ is unbiased for $\\sigma^2$"
   ]
  },
  {
   "attachments": {},
   "cell_type": "markdown",
   "metadata": {},
   "source": [
    "+ **Solution:**"
   ]
  },
  {
   "attachments": {},
   "cell_type": "markdown",
   "metadata": {},
   "source": [
    "Given that $\\{X_1,..., X_n\\}$ are i.i.d., we have \n",
    "\n",
    "\\begin{aligned}\n",
    "    S^2 &= \\frac{1}{n(n-1)}\\sum_{i\\neq j} \\frac{(X_i-X_j)^2}{2} \\\\\n",
    "        &= \\frac{1}{n(n-1)} \\sum_{i\\neq j} \\frac{X_i^2 - 2X_i X_j + X_j^2}{2}   \\\\\n",
    "        &= \\frac{1}{n(n-1)} \\sum_{j = 1}^n \\sum_{1\\leq i < j} (X_i^2 - 2X_i X_j + X_j^2) \\\\\n",
    "        &= \\frac{1}{n(n-1)} \\sum_{j = 1}^n [X_j^2  -2X_j \\sum_{1\\leq i < j} X_i + \\sum_{1\\leq i < j} X_i^2] \\\\\n",
    "        &= \\frac{1}{n-1} \\sum_{j = 1}^n (X_j - \\bar{X})^2   \\\\\n",
    "        &= S_n^2\n",
    "\\end{aligned}"
   ]
  },
  {
   "attachments": {},
   "cell_type": "markdown",
   "metadata": {},
   "source": [
    "Thus, $E(S^2) = E(S^2_n) = \\sigma^2$, implying that $S^2$ is unbiased for $\\sigma^2$\n",
    "\n"
   ]
  },
  {
   "attachments": {},
   "cell_type": "markdown",
   "metadata": {},
   "source": [
    "##### 第9题"
   ]
  },
  {
   "attachments": {},
   "cell_type": "markdown",
   "metadata": {},
   "source": [
    "+ Suppose $\\{X_1,..., X_n\\}$ are IID generated from Poisson(λ). Note that the mean and the variance of Poisson(λ) are both λ. Thus, we can use the sample mean $\\bar{X_n} =\\frac{1}{n}\\sum^{n}_{i=1} X_i$ and the sample variance $S_n^2 = (n − 1)^{−1}\\sum{i=1}^{n}(X_i − \\bar{X_n})^2$ to estimate λ.\n",
    "+ Furthermore, both estimators are unbiased for λ. Which is better? We need to use the simulation methods to get this answer.\n",
    "\n",
    "  + First, you randomly generate $\\{X_1,..., X_n\\}$ with $n = 20$ from Poisson(λ) where you can let $λ = 2$, and then you can compute two estimators. \n",
    "  + Second, you repeat the previous procedure 500 times, and then plot the respective histograms of the resulting 500 values of $\\bar{X_n}$ and $S_n^2$ and also calculate the variances of these 500 values of $\\bar{X_n}$ and $S_n^2$. \n",
    "  + Third, compare two histograms and two variances, draw your conclusion about which is better. Why?"
   ]
  },
  {
   "cell_type": "code",
   "execution_count": 6,
   "metadata": {},
   "outputs": [],
   "source": [
    "from scipy.stats import rv_discrete\n",
    "from scipy.special import factorial\n",
    "from numpy import e\n",
    "import numpy as np\n",
    "ceil,lam = 10000,2\n",
    "x = np.arange(0,ceil)\n",
    "pmf = lam**x/factorial(x)*e**(-lam)\n",
    "pmf = np.where(pmf<0,0,pmf)\n",
    "poisson = rv_discrete(values=(x,pmf))"
   ]
  },
  {
   "cell_type": "code",
   "execution_count": 8,
   "metadata": {},
   "outputs": [],
   "source": [
    "X_bar = []\n",
    "S_square = []\n",
    "iter_times,n = 500,20\n",
    "for i in range(iter_times):\n",
    "    sample = poisson.rvs(size = n)\n",
    "    X_bar.append(np.mean(sample))\n",
    "    S_square.append(np.sum((sample - np.mean(sample))**2)/(n-1))"
   ]
  },
  {
   "cell_type": "code",
   "execution_count": 21,
   "metadata": {},
   "outputs": [
    {
     "data": {
      "image/png": "[encoded data removed]",
      "text/plain": [
       "<Figure size 700x600 with 1 Axes>"
      ]
     },
     "metadata": {},
     "output_type": "display_data"
    }
   ],
   "source": [
    "import matplotlib.pyplot as plt\n",
    "import seaborn as sns\n",
    "sns.set_theme(style=\"ticks\")\n",
    "f, ax = plt.subplots(figsize=(7, 6))\n",
    "labels = [\"X_bar\",\"S_squared\"]\n",
    "bplot = ax.boxplot([X_bar,S_square],\n",
    "                     vert=True,  \n",
    "                     patch_artist=True, \n",
    "                     labels=labels)  \n",
    "ax.set_title('Estimates box plot')\n",
    "colors = ['pink', 'lightblue']\n",
    "for patch, color in zip(bplot['boxes'], colors):\n",
    "    patch.set_facecolor(color) #type: ignore\n",
    "ax.hlines(y = 2,xmin=-1,xmax=3,colors=['r'])\n",
    "plt.show()"
   ]
  }
 ],
 "metadata": {
  "kernelspec": {
   "display_name": "base",
   "language": "python",
   "name": "python3"
  },
  "language_info": {
   "codemirror_mode": {
    "name": "ipython",
    "version": 3
   },
   "file_extension": ".py",
   "mimetype": "text/x-python",
   "name": "python",
   "nbconvert_exporter": "python",
   "pygments_lexer": "ipython3",
   "version": "3.9.12"
  },
  "orig_nbformat": 4,
  "vscode": {
   "interpreter": {
    "hash": "230b3ff13fbf17182562d98b6b92d0993293f138d9d821fa36058128ba3119c0"
   }
  }
 },
 "nbformat": 4,
 "nbformat_minor": 2
}
